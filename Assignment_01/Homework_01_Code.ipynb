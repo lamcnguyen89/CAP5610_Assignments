{
 "cells": [
  {
   "cell_type": "code",
   "execution_count": 1,
   "metadata": {},
   "outputs": [],
   "source": [
    "\"\"\"\n",
    "\n",
    "(30 points) Coding Question: Please write a Python code to calculate:\n",
    " \n",
    "    1. Correlation\n",
    "    2. Cosine similarity\n",
    "    3. Euclidean distance \n",
    "    \n",
    "using NumPy. \n",
    "\n",
    "The input can be two randomly generated vectors or fixed vectors written by yourself.  \n",
    "\n",
    "\n",
    "\"\"\"\n",
    "\n",
    "\n",
    "# Import Packages\n",
    "\n",
    "import numpy as np\n",
    "from numpy.linalg import norm\n",
    "from math import dist\n",
    "\n",
    "\n"
   ]
  },
  {
   "cell_type": "code",
   "execution_count": 2,
   "metadata": {},
   "outputs": [
    {
     "name": "stdout",
     "output_type": "stream",
     "text": [
      "List of Vectors: \n",
      "[(12, 88), (95, 42)]\n"
     ]
    }
   ],
   "source": [
    "# Create Input Vectors\n",
    "\n",
    "# Create list of Vectors\n",
    "\n",
    "vector_list = []\n",
    "\n",
    "number_of_points = 2\n",
    "count = 0\n",
    "\n",
    "while (count < number_of_points):\n",
    "    count += 1\n",
    "    x = np.random.randint(100)\n",
    "    y = np.random.randint(100)\n",
    "    vector = (x,y)\n",
    "    vector_list.append(vector)\n",
    "\n",
    "print(\"List of Vectors: \")\n",
    "print(vector_list)\n",
    "\n"
   ]
  },
  {
   "cell_type": "code",
   "execution_count": 3,
   "metadata": {},
   "outputs": [],
   "source": [
    "# Create Formula for Correlation\n",
    "\n",
    "\"\"\"\n",
    "\n",
    "Formula:\n",
    "\n",
    "Pearson Correlation\n",
    "\n",
    "Population = covariance/(standard_deviation_X * standard_deviation_Y)\n",
    "\n",
    "covariance = is a measure of the joint variability of two random variables\n",
    "standard_deviation = measure of the amount of variation of a random variable expected about its mean\n",
    "\n",
    "\n",
    "\"\"\"\n",
    "\n",
    "def correlation(point_1, point_2):\n",
    "    corr = np.corrcoef(point_1,point_2)\n",
    "    return corr\n",
    "\n",
    "\n"
   ]
  },
  {
   "cell_type": "code",
   "execution_count": 4,
   "metadata": {},
   "outputs": [],
   "source": [
    "# Create Formula for Cosine Similarity as the \n",
    "\n",
    "\"\"\"\n",
    "Cosine similarity is defined mathematically as the dot product of the vectors divided by their magnitude\n",
    "\n",
    "Cosine_Similarity = cos(theta) = dot_product(point_1,point_2)/(Magnitude(point_1)*Magnitude(point_2))\n",
    "\n",
    "\n",
    "\"\"\"\n",
    "\n",
    "def cosine_similarity(point_1,point_2):\n",
    "    dot_product_AB = np.dot(point_1,point_2)\n",
    "    magnitude_A = norm(point_1)\n",
    "    magnitude_B = norm(point_2)\n",
    "\n",
    "    similarity = dot_product_AB/(magnitude_A*magnitude_B)\n",
    "\n",
    "    return similarity\n",
    "    \n"
   ]
  },
  {
   "cell_type": "code",
   "execution_count": 5,
   "metadata": {},
   "outputs": [],
   "source": [
    "# Define Euclidean Distance:\n",
    "\n",
    "\"\"\"\n",
    "\n",
    "Formula:\n",
    "\n",
    "Euclidean_Distance = [(x_2-x_1)^2 + (y_2-y_1)^2]^.5\n",
    "\n",
    "\"\"\"\n",
    "        \n",
    "\n",
    "def euclidean_distance(point_1, point_2):\n",
    "    distance = dist(point_1,point_2)\n",
    "    return distance\n",
    "\n",
    "\n"
   ]
  },
  {
   "cell_type": "code",
   "execution_count": 6,
   "metadata": {},
   "outputs": [
    {
     "name": "stdout",
     "output_type": "stream",
     "text": [
      "Using a vector with the values (12, 88) and a vector with the values (95, 42), we calculate Pearson Correlation, Cosine Similarity and Euclidean Distance \n",
      "\n",
      "Pearson Correlation:  [[ 1. -1.]\n",
      " [-1.  1.]]\n",
      "Cosine Similarity:  0.52\n",
      "Euclidean Distance:  94.89\n"
     ]
    }
   ],
   "source": [
    "\n",
    "# Calculate Correlation, Cosine Similarity and Euclidean Distance:\n",
    "\n",
    "point_1 = vector_list[0]\n",
    "point_2 = vector_list[1]\n",
    "\n",
    "print(f\"Using a vector with the values {point_1} and a vector with the values {point_2}, we calculate Pearson Correlation, Cosine Similarity and Euclidean Distance \")\n",
    "print(\"\")\n",
    "print(\"Pearson Correlation: \", correlation(point_1,point_2))\n",
    "print(\"Cosine Similarity: \", \"{0:.2f}\".format(cosine_similarity(point_1,point_2)))\n",
    "print(\"Euclidean Distance: \", \"{0:.2f}\".format(euclidean_distance(point_1,point_2)))"
   ]
  }
 ],
 "metadata": {
  "kernelspec": {
   "display_name": "deeplearning",
   "language": "python",
   "name": "python3"
  },
  "language_info": {
   "codemirror_mode": {
    "name": "ipython",
    "version": 3
   },
   "file_extension": ".py",
   "mimetype": "text/x-python",
   "name": "python",
   "nbconvert_exporter": "python",
   "pygments_lexer": "ipython3",
   "version": "3.11.7"
  }
 },
 "nbformat": 4,
 "nbformat_minor": 2
}
