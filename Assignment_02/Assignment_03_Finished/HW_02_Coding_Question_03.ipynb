{
 "cells": [
  {
   "cell_type": "code",
   "execution_count": 57,
   "metadata": {},
   "outputs": [
    {
     "data": {
      "text/plain": [
       "'\\nProblem 03: Implement a Linear Regression to find the best linear model for the provided data. Plot the result using matplotlib.pyplot.\\n\\n    1. The linear model follows the format Y=MX + C\\n    2. Use Mean-Squared-Error (MSE) as the loss function\\n    3. Use pandas to read the csv file and load the values into two vectors X and Y\\n    4. Use the Gradient Descent for the training. you may choose fixed learning rate(such as 0.0001) and epochs (1000) without considering mini-batch\\n\\n'"
      ]
     },
     "execution_count": 57,
     "metadata": {},
     "output_type": "execute_result"
    }
   ],
   "source": [
    "# Homework Assignment 02: Coding Questions\n",
    "# Student ID: la815794\n",
    "\n",
    "\"\"\"\n",
    "Problem 03: Implement a Linear Regression to find the best linear model for the provided data. Plot the result using matplotlib.pyplot.\n",
    "\n",
    "    1. The linear model follows the format Y=MX + C\n",
    "    2. Use Mean-Squared-Error (MSE) as the loss function\n",
    "    3. Use pandas to read the csv file and load the values into two vectors X and Y\n",
    "    4. Use the Gradient Descent for the training. you may choose fixed learning rate(such as 0.0001) and epochs (1000) without considering mini-batch\n",
    "\n",
    "\"\"\"\n"
   ]
  },
  {
   "cell_type": "code",
   "execution_count": 58,
   "metadata": {},
   "outputs": [
    {
     "name": "stdout",
     "output_type": "stream",
     "text": [
      "(100, 2)\n"
     ]
    },
    {
     "data": {
      "text/html": [
       "<div>\n",
       "<style scoped>\n",
       "    .dataframe tbody tr th:only-of-type {\n",
       "        vertical-align: middle;\n",
       "    }\n",
       "\n",
       "    .dataframe tbody tr th {\n",
       "        vertical-align: top;\n",
       "    }\n",
       "\n",
       "    .dataframe thead th {\n",
       "        text-align: right;\n",
       "    }\n",
       "</style>\n",
       "<table border=\"1\" class=\"dataframe\">\n",
       "  <thead>\n",
       "    <tr style=\"text-align: right;\">\n",
       "      <th></th>\n",
       "      <th>X</th>\n",
       "      <th>Y</th>\n",
       "    </tr>\n",
       "  </thead>\n",
       "  <tbody>\n",
       "    <tr>\n",
       "      <th>0</th>\n",
       "      <td>32.502345</td>\n",
       "      <td>31.707006</td>\n",
       "    </tr>\n",
       "    <tr>\n",
       "      <th>1</th>\n",
       "      <td>53.426804</td>\n",
       "      <td>68.777596</td>\n",
       "    </tr>\n",
       "    <tr>\n",
       "      <th>2</th>\n",
       "      <td>61.530358</td>\n",
       "      <td>62.562382</td>\n",
       "    </tr>\n",
       "    <tr>\n",
       "      <th>3</th>\n",
       "      <td>47.475640</td>\n",
       "      <td>71.546632</td>\n",
       "    </tr>\n",
       "    <tr>\n",
       "      <th>4</th>\n",
       "      <td>59.813208</td>\n",
       "      <td>87.230925</td>\n",
       "    </tr>\n",
       "  </tbody>\n",
       "</table>\n",
       "</div>"
      ],
      "text/plain": [
       "           X          Y\n",
       "0  32.502345  31.707006\n",
       "1  53.426804  68.777596\n",
       "2  61.530358  62.562382\n",
       "3  47.475640  71.546632\n",
       "4  59.813208  87.230925"
      ]
     },
     "execution_count": 58,
     "metadata": {},
     "output_type": "execute_result"
    }
   ],
   "source": [
    "# Import packages\n",
    "\n",
    "import numpy as np\n",
    "import pandas as pd\n",
    "import matplotlib.pyplot as plt\n",
    "\n",
    "\n",
    "# Import dataset and read\n",
    "dataset = pd.read_csv('HW2_linear_data-1.csv')\n",
    "print(dataset.shape)\n",
    "dataset.head()\n"
   ]
  },
  {
   "cell_type": "code",
   "execution_count": 59,
   "metadata": {},
   "outputs": [
    {
     "data": {
      "image/png": "[encoded data removed]",
      "text/plain": [
       "<Figure size 640x480 with 1 Axes>"
      ]
     },
     "metadata": {},
     "output_type": "display_data"
    }
   ],
   "source": [
    "# Visualize Data\n",
    "\n",
    "plt.scatter(dataset.X,dataset.Y)\n",
    "plt.show()\n"
   ]
  },
  {
   "cell_type": "code",
   "execution_count": 60,
   "metadata": {},
   "outputs": [],
   "source": [
    "# Define Loss Function\n",
    "\n",
    "\"\"\"\n",
    "Loss Function:\n",
    "\n",
    "Mean Square Error = (1/n) * Summation(y_predicted - y_target)**2\n",
    "\n",
    "n = number of samples from the dataset\n",
    "y_predicted = Value predicted from the model\n",
    "y_target = Actual value from the dataset\n",
    "\"\"\"\n",
    "\n",
    "def loss(m,b,points):\n",
    "    total_error = 0\n",
    "    for i in range(len(points)):\n",
    "        x = points.iloc[i].X\n",
    "        y = points.iloc[i].Y\n",
    "        # Use mean square error as the loss function\n",
    "        total_error += (y - (m * x + b))**2\n",
    "\n",
    "    total_error / float(len(points))\n"
   ]
  },
  {
   "cell_type": "code",
   "execution_count": 61,
   "metadata": {},
   "outputs": [],
   "source": [
    "# Define Gradient Descent\n",
    "\n",
    "\"\"\"\n",
    "Gradient_Descent_with_respect_to_Variable = ((partial_derivative_Y_with_respect_to_variable(y_target - y_predicted))**2) * Learning_Rate\n",
    "\n",
    "partial_derivative_Y_with_respect_to_variable = is the partial derivative of a function Y with respect to a particular variable that we are trying to find through a process of iteration\n",
    "y_target = the actual value from the dataset that we are trying to match with the y_predicted function by tweaking the prediction function/model\n",
    "y_predicted = the predicted value from our prediction function/model. We take the partial derivative of one of the values in the function we are trying to tweak\n",
    "Learning_Rate = Is a value we can set to control how fast the iterative gradient descent process occurs\n",
    "\n",
    "\"\"\"\n",
    "\n",
    "def gradient_descent(m_now,b_now, points, L):\n",
    "    m_gradient = 0\n",
    "    b_gradient = 0\n",
    "\n",
    "    n = len(points)\n",
    "\n",
    "    for i in range(n):\n",
    "        x = points.iloc[i].X\n",
    "        y = points.iloc[i].Y\n",
    "        \n",
    "        # Linear Regression Function = y = m*x + b\n",
    "        # Gradient Descent Function = initial_value + partial derivative with respect to a value(y_target-y_predicted)**2\n",
    "        \n",
    "        \n",
    "        m_gradient += -(2/n) * x * (y - (m_now * x + b_now)) # Initial_value_of_gradient_for_m + (Partial_derivative_m_with_respect_to_x(y_target-y_predicted)/(number_of_samples)\n",
    "        b_gradient += -(2/n) * (y - (m_now * x + b_now)) # Initial_value_of_gradient_for_b + (Partial_derivative_b_with_respect_to_x(y_target-y_predicted)/(number_of_samples)\n",
    "\n",
    "\n",
    "    m = m_now - m_gradient * L # L is the learning rate \n",
    "    b = m_now - b_gradient * L\n",
    "\n",
    "    return m,b\n",
    "\n"
   ]
  },
  {
   "cell_type": "code",
   "execution_count": 62,
   "metadata": {},
   "outputs": [
    {
     "name": "stdout",
     "output_type": "stream",
     "text": [
      "Epoch: 0, m: 2.211210892086158, b: 0.043641030332340014\n",
      "Epoch: 50, m: 1.4509688947648436, b: 1.45111703651524\n",
      "Epoch: 100, m: 1.4509688947648436, b: 1.45111703651524\n",
      "Epoch: 150, m: 1.4509688947648436, b: 1.45111703651524\n",
      "Epoch: 200, m: 1.4509688947648436, b: 1.45111703651524\n",
      "Epoch: 250, m: 1.4509688947648436, b: 1.45111703651524\n",
      "Epoch: 300, m: 1.4509688947648436, b: 1.45111703651524\n",
      "Epoch: 350, m: 1.4509688947648436, b: 1.45111703651524\n",
      "Epoch: 400, m: 1.4509688947648436, b: 1.45111703651524\n",
      "Epoch: 450, m: 1.4509688947648436, b: 1.45111703651524\n",
      "Epoch: 500, m: 1.4509688947648436, b: 1.45111703651524\n",
      "Epoch: 550, m: 1.4509688947648436, b: 1.45111703651524\n",
      "Epoch: 600, m: 1.4509688947648436, b: 1.45111703651524\n",
      "Epoch: 650, m: 1.4509688947648436, b: 1.45111703651524\n",
      "Epoch: 700, m: 1.4509688947648436, b: 1.45111703651524\n",
      "Epoch: 750, m: 1.4509688947648436, b: 1.45111703651524\n",
      "Epoch: 800, m: 1.4509688947648436, b: 1.45111703651524\n",
      "Epoch: 850, m: 1.4509688947648436, b: 1.45111703651524\n",
      "Epoch: 900, m: 1.4509688947648436, b: 1.45111703651524\n",
      "Epoch: 950, m: 1.4509688947648436, b: 1.45111703651524\n",
      "Final Regression Model: y = 1.4509688947648436x + 1.45111703651524\n"
     ]
    }
   ],
   "source": [
    "# Execute Training\n",
    "\n",
    "# Linear regression model:  y = mx + b\n",
    "\n",
    "# Initialize initial m, b and learning rate\n",
    "\n",
    "m = 0\n",
    "b = 0\n",
    "L = 0.0003\n",
    "epochs = 1000\n",
    "\n",
    "for i in range(epochs):\n",
    "    m,b = gradient_descent(m,b,dataset, L)\n",
    "    if i % 50 == 0:\n",
    "        print(f\"Epoch: {i}, m: {m}, b: {b}\")\n",
    "\n",
    "print(f\"Final Regression Model: y = {m}x + {b}\")\n",
    "\n"
   ]
  },
  {
   "cell_type": "code",
   "execution_count": 63,
   "metadata": {},
   "outputs": [
    {
     "data": {
      "image/png": "[encoded data removed]",
      "text/plain": [
       "<Figure size 640x480 with 1 Axes>"
      ]
     },
     "metadata": {},
     "output_type": "display_data"
    }
   ],
   "source": [
    "#plot Initial Data and Scatter Plot\n",
    "plt.scatter(dataset.X, dataset.Y, color = \"red\")\n",
    "plt.plot(list(range(20,80)), [m * x + b for x in range(20,80)], color = \"green\")\n",
    "plt.title('Linear Regression')\n",
    "plt.xlabel('X')\n",
    "plt.ylabel('Y')\n",
    "plt.show()"
   ]
  }
 ],
 "metadata": {
  "kernelspec": {
   "display_name": "deeplearning",
   "language": "python",
   "name": "python3"
  },
  "language_info": {
   "codemirror_mode": {
    "name": "ipython",
    "version": 3
   },
   "file_extension": ".py",
   "mimetype": "text/x-python",
   "name": "python",
   "nbconvert_exporter": "python",
   "pygments_lexer": "ipython3",
   "version": "3.11.7"
  }
 },
 "nbformat": 4,
 "nbformat_minor": 2
}
