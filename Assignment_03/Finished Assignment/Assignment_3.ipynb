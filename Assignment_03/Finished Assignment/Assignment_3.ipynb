{
 "cells": [
  {
   "cell_type": "code",
   "execution_count": 1,
   "metadata": {},
   "outputs": [
    {
     "data": {
      "text/plain": [
       "'\\n\\nFor this problem. We are given the dataset for the survivors of the Titanic ship. Given the data, we have to predict whether or not the person survived.\\n\\n    1) Preprocess your Titanic training data;  (3 points)\\n\\n    2) Select a set of important features. Please show your selected features and explain how you perform feature selection. (3 points)\\n\\n    3) Learn a decision tree model with the Titanic training data using Gini index, plot your decision tree; (4 points)\\n\\n    4) Apply the five-fold cross validation of the decision tree learning algorithm to the Titanic\\n    training data to extract average classification accuracy (using max_depth=10); (5 points)\\n\\n    5) Apply the five-fold cross validation of the random forest learning algorithm to the Titanic training data to extract average classification accuracy (using n_estimators=200); (5 points)\\n\\n    6) Which algorithm is better, Decision Tree or Random Forest? (5 points)\\n\\n    7) What are your observations and conclusions from the algorithm comparison and analysis? (5 points)\\n\\n\\nSources:\\n\\nhttps://towardsdatascience.com/kaggle-titanic-machine-learning-model-top-7-fa4523b7c40\\n\\nhttps://www.datacamp.com/tutorial/tutorial-kaggle-competition-tutorial-machine-learning-from-titanic\\n\\nhttps://scikit-learn.org/stable/modules/tree.html\\n\\nhttps://machinelearningmastery.com/how-to-configure-k-fold-cross-validation/\\n\\nhttps://stackoverflow.com/questions/34165731/a-column-vector-y-was-passed-when-a-1d-array-was-expected\\n\\n\\n'"
      ]
     },
     "execution_count": 1,
     "metadata": {},
     "output_type": "execute_result"
    }
   ],
   "source": [
    "# Assignment 3: Problem 02 Coding Question\n",
    "\n",
    "\"\"\"\n",
    "\n",
    "For this problem. We are given the dataset for the survivors of the Titanic ship. Given the data, we have to predict whether or not the person survived.\n",
    "\n",
    "    1) Preprocess your Titanic training data;  (3 points)\n",
    "\n",
    "    2) Select a set of important features. Please show your selected features and explain how you perform feature selection. (3 points)\n",
    "\n",
    "    3) Learn a decision tree model with the Titanic training data using Gini index, plot your decision tree; (4 points)\n",
    "\n",
    "    4) Apply the five-fold cross validation of the decision tree learning algorithm to the Titanic\n",
    "    training data to extract average classification accuracy (using max_depth=10); (5 points)\n",
    "\n",
    "    5) Apply the five-fold cross validation of the random forest learning algorithm to the Titanic training data to extract average classification accuracy (using n_estimators=200); (5 points)\n",
    "\n",
    "    6) Which algorithm is better, Decision Tree or Random Forest? (5 points)\n",
    "\n",
    "    7) What are your observations and conclusions from the algorithm comparison and analysis? (5 points)\n",
    "\n",
    "\n",
    "Sources:\n",
    "\n",
    "https://towardsdatascience.com/kaggle-titanic-machine-learning-model-top-7-fa4523b7c40\n",
    "\n",
    "https://www.datacamp.com/tutorial/tutorial-kaggle-competition-tutorial-machine-learning-from-titanic\n",
    "\n",
    "https://scikit-learn.org/stable/modules/tree.html\n",
    "\n",
    "https://machinelearningmastery.com/how-to-configure-k-fold-cross-validation/\n",
    "\n",
    "https://stackoverflow.com/questions/34165731/a-column-vector-y-was-passed-when-a-1d-array-was-expected\n",
    "\n",
    "\n",
    "\"\"\""
   ]
  },
  {
   "cell_type": "code",
   "execution_count": 2,
   "metadata": {},
   "outputs": [
    {
     "name": "stdout",
     "output_type": "stream",
     "text": [
      "/Users/lamcnguyen/Books/CAP5610 Lectures and Notes/Assignments/Assignment_03/Finished Assignment\n",
      "Assignment_3.ipynb           \u001b[31mtest.csv\u001b[m\u001b[m\n",
      "\u001b[31mgender_submission.csv\u001b[m\u001b[m        \u001b[31mtrain.csv\u001b[m\u001b[m\n",
      "hmwk3_finished_la815794.docx\n"
     ]
    }
   ],
   "source": [
    "# List all files in a directory:\n",
    "\n",
    "!pwd; ls"
   ]
  },
  {
   "cell_type": "code",
   "execution_count": 3,
   "metadata": {},
   "outputs": [
    {
     "name": "stdout",
     "output_type": "stream",
     "text": [
      "   Survived  Pclass     Sex   Age  SibSp  Parch     Fare Embarked\n",
      "0         0       3    male  22.0      1      0   7.2500        S\n",
      "1         1       1  female  38.0      1      0  71.2833        C\n",
      "2         1       3  female  26.0      0      0   7.9250        S\n",
      "3         1       1  female  35.0      1      0  53.1000        S\n",
      "4         0       3    male  35.0      0      0   8.0500        S\n",
      "   Pclass     Sex   Age  SibSp  Parch     Fare Embarked\n",
      "0       3    male  34.5      0      0   7.8292        Q\n",
      "1       3  female  47.0      1      0   7.0000        S\n",
      "2       2    male  62.0      0      0   9.6875        Q\n",
      "3       3    male  27.0      0      0   8.6625        S\n",
      "4       3  female  22.0      1      1  12.2875        S\n"
     ]
    }
   ],
   "source": [
    "#  1) Select a set of important features. Please show your selected features and explain how you perform feature selection. (3 points)\n",
    "# Import relevant selection from data and split into training and test sets\n",
    "\n",
    "import pandas as pd\n",
    "\n",
    "# The following features below were selected because they might have something to do with the types of people that chose to or were allowed to board the escape ships. The passenger id field was excluded because it most likely didn't have anything to do with who survived.\n",
    "\n",
    "columns_to_be_added_as_features = ['Sex','Age','SibSp','Parch','Pclass','Fare','Embarked']\n",
    "\n",
    "train_df = pd.read_csv('train.csv', usecols=columns_to_be_added_as_features + ['Survived'])\n",
    "test_df_matcher = pd.read_csv('test.csv', usecols=columns_to_be_added_as_features + ['PassengerId'])\n",
    "test_df = pd.read_csv('test.csv',usecols=columns_to_be_added_as_features)\n",
    "\n",
    "print(train_df.head())\n",
    "print(test_df.head())"
   ]
  },
  {
   "cell_type": "code",
   "execution_count": 4,
   "metadata": {},
   "outputs": [
    {
     "name": "stdout",
     "output_type": "stream",
     "text": [
      "   Survived  Pclass  Sex   Age  SibSp  Parch       Fare  Embarked\n",
      "0       0.0     3.0    0  22.0    1.0    0.0   7.250000       1.0\n",
      "1       1.0     1.0    1  38.0    1.0    0.0  71.283302       2.0\n",
      "2       1.0     3.0    1  26.0    0.0    0.0   7.925000       1.0\n",
      "3       1.0     1.0    1  35.0    1.0    0.0  53.099998       1.0\n",
      "4       0.0     3.0    0  35.0    0.0    0.0   8.050000       1.0\n"
     ]
    }
   ],
   "source": [
    "# 2a) Preprocess your Titanic training data;  (3 points)\n",
    "\n",
    "# Convert type of values to float\n",
    "for column_title in columns_to_be_added_as_features:\n",
    "    if column_title in ['Embarked', \"Sex\"]:\n",
    "        continue\n",
    "    train_df[column_title] = pd.to_numeric(train_df[column_title], downcast=\"float\")\n",
    "    test_df[column_title] = pd.to_numeric(test_df[column_title], downcast=\"float\")\n",
    "\n",
    "train_df[\"Survived\"] = pd.to_numeric(train_df[\"Survived\"], downcast=\"float\")\n",
    "\n",
    "\n",
    "# Convert Strings to numerical values in order to feed to model:\n",
    "train_df['Embarked'].replace('Q', 0,inplace=True)\n",
    "train_df['Embarked'].replace('S', 1,inplace=True)\n",
    "train_df['Embarked'].replace('C', 2,inplace=True)\n",
    "\n",
    "test_df['Embarked'].replace('Q', 0,inplace=True)\n",
    "test_df['Embarked'].replace('S', 1,inplace=True)\n",
    "test_df['Embarked'].replace('C', 2,inplace=True)\n",
    "\n",
    "train_df['Sex'].replace('male', 0,inplace=True)\n",
    "train_df['Sex'].replace('female', 1,inplace=True)\n",
    "\n",
    "test_df['Sex'].replace('male', 0,inplace=True)\n",
    "test_df['Sex'].replace('female', 1,inplace=True)\n",
    "\n",
    "print(train_df.head())\n"
   ]
  },
  {
   "cell_type": "code",
   "execution_count": 5,
   "metadata": {},
   "outputs": [
    {
     "name": "stdout",
     "output_type": "stream",
     "text": [
      "   Survived  Pclass  Sex       Age  SibSp  Parch      Fare  Embarked\n",
      "0       0.0     0.5  0.0  0.484795    0.0    0.0  0.025374       0.5\n",
      "1       0.0     0.0  1.0  0.623021    0.0    0.0  0.056043       1.0\n",
      "2       0.0     0.5  0.0  0.308872    0.0    0.0  0.025374       0.5\n",
      "3       0.0     1.0  0.0  0.503644    0.0    0.0  0.015127       0.0\n",
      "4       1.0     1.0  1.0  0.258608    0.0    0.0  0.014932       0.5\n"
     ]
    }
   ],
   "source": [
    "# 2b) Preprocess your Titanic training data\n",
    "\n",
    "# Normalize data:\n",
    "def normalize(df):\n",
    "    result = df.copy()\n",
    "    for feature_name in df.columns:\n",
    "        max_value = df[feature_name].max()\n",
    "        min_value = df[feature_name].min()\n",
    "        result[feature_name] = (df[feature_name] - min_value) / (max_value - min_value)\n",
    "    return result\n",
    "\n",
    "train_df = normalize(train_df)\n",
    "test_df = normalize(test_df)\n",
    "\n",
    "\n",
    "# Normalize dataframe:\n",
    "train_df = train_df.sample(frac=1).reset_index(drop=True)\n",
    "\n",
    "# Fill empty values with 0\n",
    "train_df = train_df.fillna(0)\n",
    "test_df = test_df.fillna(0)\n",
    "\n",
    "\n",
    "print(train_df.head())\n"
   ]
  },
  {
   "cell_type": "code",
   "execution_count": 6,
   "metadata": {},
   "outputs": [],
   "source": [
    "# 3a) Learn a decision tree model with the Titanic training data using Gini index, plot your decision tree; (4 points)\n",
    "# Train decision tree\n",
    "\n",
    "from sklearn.tree import DecisionTreeClassifier\n",
    "from sklearn import metrics\n",
    "\n",
    "train_X = train_df[columns_to_be_added_as_features]\n",
    "train_Label =train_df[['Survived']]\n",
    "\n",
    "# Create decision tree classifier object\n",
    "clf = DecisionTreeClassifier(criterion='gini', max_depth=10)\n",
    "\n",
    "# Train decision tree classifier\n",
    "clf = clf.fit(train_X,train_Label)\n"
   ]
  },
  {
   "cell_type": "code",
   "execution_count": 7,
   "metadata": {},
   "outputs": [
    {
     "data": {
      "text/plain": [
       "[Text(0.6670437866927593, 0.9545454545454546, 'x[0] <= 0.5\\ngini = 0.473\\nsamples = 891\\nvalue = [549, 342]'),\n",
       " Text(0.49088796477495106, 0.8636363636363636, 'x[5] <= 0.051\\ngini = 0.306\\nsamples = 577\\nvalue = [468, 109]'),\n",
       " Text(0.3450342465753425, 0.7727272727272727, 'x[3] <= 0.083\\ngini = 0.226\\nsamples = 415\\nvalue = [361, 54]'),\n",
       " Text(0.27128180039138944, 0.6818181818181818, 'x[1] <= 0.403\\ngini = 0.184\\nsamples = 380\\nvalue = [341, 39]'),\n",
       " Text(0.20009784735812133, 0.5909090909090909, 'x[1] <= 0.381\\ngini = 0.205\\nsamples = 284\\nvalue = [251, 33]'),\n",
       " Text(0.12622309197651663, 0.5, 'x[6] <= 0.75\\ngini = 0.181\\nsamples = 268\\nvalue = [241, 27]'),\n",
       " Text(0.07240704500978473, 0.4090909090909091, 'x[1] <= 0.328\\ngini = 0.157\\nsamples = 233\\nvalue = [213, 20]'),\n",
       " Text(0.050880626223091974, 0.3181818181818182, 'x[2] <= 0.188\\ngini = 0.135\\nsamples = 193\\nvalue = [179, 14]'),\n",
       " Text(0.03131115459882583, 0.22727272727272727, 'x[5] <= 0.016\\ngini = 0.128\\nsamples = 189\\nvalue = [176, 13]'),\n",
       " Text(0.015655577299412915, 0.13636363636363635, 'x[5] <= 0.016\\ngini = 0.155\\nsamples = 130\\nvalue = [119, 11]'),\n",
       " Text(0.007827788649706457, 0.045454545454545456, 'gini = 0.143\\nsamples = 129\\nvalue = [119, 10]'),\n",
       " Text(0.023483365949119372, 0.045454545454545456, 'gini = 0.0\\nsamples = 1\\nvalue = [0, 1]'),\n",
       " Text(0.046966731898238745, 0.13636363636363635, 'x[4] <= 0.75\\ngini = 0.065\\nsamples = 59\\nvalue = [57, 2]'),\n",
       " Text(0.03913894324853229, 0.045454545454545456, 'gini = 0.159\\nsamples = 23\\nvalue = [21, 2]'),\n",
       " Text(0.0547945205479452, 0.045454545454545456, 'gini = 0.0\\nsamples = 36\\nvalue = [36, 0]'),\n",
       " Text(0.07045009784735812, 0.22727272727272727, 'x[1] <= 0.098\\ngini = 0.375\\nsamples = 4\\nvalue = [3, 1]'),\n",
       " Text(0.06262230919765166, 0.13636363636363635, 'gini = 0.0\\nsamples = 1\\nvalue = [0, 1]'),\n",
       " Text(0.07827788649706457, 0.13636363636363635, 'gini = 0.0\\nsamples = 3\\nvalue = [3, 0]'),\n",
       " Text(0.09393346379647749, 0.3181818181818182, 'x[5] <= 0.014\\ngini = 0.255\\nsamples = 40\\nvalue = [34, 6]'),\n",
       " Text(0.08610567514677103, 0.22727272727272727, 'gini = 0.0\\nsamples = 1\\nvalue = [0, 1]'),\n",
       " Text(0.10176125244618395, 0.22727272727272727, 'x[6] <= 0.25\\ngini = 0.224\\nsamples = 39\\nvalue = [34, 5]'),\n",
       " Text(0.09393346379647749, 0.13636363636363635, 'gini = 0.0\\nsamples = 1\\nvalue = [0, 1]'),\n",
       " Text(0.1095890410958904, 0.13636363636363635, 'x[1] <= 0.34\\ngini = 0.188\\nsamples = 38\\nvalue = [34, 4]'),\n",
       " Text(0.10176125244618395, 0.045454545454545456, 'gini = 0.444\\nsamples = 6\\nvalue = [4, 2]'),\n",
       " Text(0.11741682974559686, 0.045454545454545456, 'gini = 0.117\\nsamples = 32\\nvalue = [30, 2]'),\n",
       " Text(0.18003913894324852, 0.4090909090909091, 'x[1] <= 0.139\\ngini = 0.32\\nsamples = 35\\nvalue = [28, 7]'),\n",
       " Text(0.1487279843444227, 0.3181818181818182, 'x[4] <= 0.75\\ngini = 0.188\\nsamples = 19\\nvalue = [17, 2]'),\n",
       " Text(0.13307240704500978, 0.22727272727272727, 'x[5] <= 0.028\\ngini = 0.5\\nsamples = 2\\nvalue = [1, 1]'),\n",
       " Text(0.12524461839530332, 0.13636363636363635, 'gini = 0.0\\nsamples = 1\\nvalue = [0, 1]'),\n",
       " Text(0.14090019569471623, 0.13636363636363635, 'gini = 0.0\\nsamples = 1\\nvalue = [1, 0]'),\n",
       " Text(0.1643835616438356, 0.22727272727272727, 'x[5] <= 0.015\\ngini = 0.111\\nsamples = 17\\nvalue = [16, 1]'),\n",
       " Text(0.15655577299412915, 0.13636363636363635, 'x[5] <= 0.014\\ngini = 0.165\\nsamples = 11\\nvalue = [10, 1]'),\n",
       " Text(0.1487279843444227, 0.045454545454545456, 'gini = 0.0\\nsamples = 5\\nvalue = [5, 0]'),\n",
       " Text(0.1643835616438356, 0.045454545454545456, 'gini = 0.278\\nsamples = 6\\nvalue = [5, 1]'),\n",
       " Text(0.17221135029354206, 0.13636363636363635, 'gini = 0.0\\nsamples = 6\\nvalue = [6, 0]'),\n",
       " Text(0.21135029354207435, 0.3181818181818182, 'x[1] <= 0.277\\ngini = 0.43\\nsamples = 16\\nvalue = [11, 5]'),\n",
       " Text(0.19569471624266144, 0.22727272727272727, 'x[5] <= 0.011\\ngini = 0.48\\nsamples = 5\\nvalue = [2, 3]'),\n",
       " Text(0.18786692759295498, 0.13636363636363635, 'gini = 0.0\\nsamples = 1\\nvalue = [1, 0]'),\n",
       " Text(0.2035225048923679, 0.13636363636363635, 'x[1] <= 0.259\\ngini = 0.375\\nsamples = 4\\nvalue = [1, 3]'),\n",
       " Text(0.19569471624266144, 0.045454545454545456, 'gini = 0.0\\nsamples = 2\\nvalue = [0, 2]'),\n",
       " Text(0.21135029354207435, 0.045454545454545456, 'gini = 0.5\\nsamples = 2\\nvalue = [1, 1]'),\n",
       " Text(0.22700587084148727, 0.22727272727272727, 'x[5] <= 0.015\\ngini = 0.298\\nsamples = 11\\nvalue = [9, 2]'),\n",
       " Text(0.2191780821917808, 0.13636363636363635, 'gini = 0.0\\nsamples = 5\\nvalue = [5, 0]'),\n",
       " Text(0.23483365949119372, 0.13636363636363635, 'x[2] <= 0.062\\ngini = 0.444\\nsamples = 6\\nvalue = [4, 2]'),\n",
       " Text(0.22700587084148727, 0.045454545454545456, 'gini = 0.444\\nsamples = 3\\nvalue = [1, 2]'),\n",
       " Text(0.24266144814090018, 0.045454545454545456, 'gini = 0.0\\nsamples = 3\\nvalue = [3, 0]'),\n",
       " Text(0.273972602739726, 0.5, 'x[5] <= 0.015\\ngini = 0.469\\nsamples = 16\\nvalue = [10, 6]'),\n",
       " Text(0.26614481409001955, 0.4090909090909091, 'gini = 0.0\\nsamples = 3\\nvalue = [3, 0]'),\n",
       " Text(0.28180039138943247, 0.4090909090909091, 'x[5] <= 0.015\\ngini = 0.497\\nsamples = 13\\nvalue = [7, 6]'),\n",
       " Text(0.273972602739726, 0.3181818181818182, 'gini = 0.0\\nsamples = 1\\nvalue = [0, 1]'),\n",
       " Text(0.2896281800391389, 0.3181818181818182, 'x[5] <= 0.041\\ngini = 0.486\\nsamples = 12\\nvalue = [7, 5]'),\n",
       " Text(0.28180039138943247, 0.22727272727272727, 'x[1] <= 0.391\\ngini = 0.463\\nsamples = 11\\nvalue = [7, 4]'),\n",
       " Text(0.26614481409001955, 0.13636363636363635, 'x[4] <= 0.75\\ngini = 0.444\\nsamples = 3\\nvalue = [1, 2]'),\n",
       " Text(0.2583170254403131, 0.045454545454545456, 'gini = 0.5\\nsamples = 2\\nvalue = [1, 1]'),\n",
       " Text(0.273972602739726, 0.045454545454545456, 'gini = 0.0\\nsamples = 1\\nvalue = [0, 1]'),\n",
       " Text(0.2974559686888454, 0.13636363636363635, 'x[5] <= 0.016\\ngini = 0.375\\nsamples = 8\\nvalue = [6, 2]'),\n",
       " Text(0.2896281800391389, 0.045454545454545456, 'gini = 0.48\\nsamples = 5\\nvalue = [3, 2]'),\n",
       " Text(0.30528375733855184, 0.045454545454545456, 'gini = 0.0\\nsamples = 3\\nvalue = [3, 0]'),\n",
       " Text(0.2974559686888454, 0.22727272727272727, 'gini = 0.0\\nsamples = 1\\nvalue = [0, 1]'),\n",
       " Text(0.3424657534246575, 0.5909090909090909, 'x[5] <= 0.015\\ngini = 0.117\\nsamples = 96\\nvalue = [90, 6]'),\n",
       " Text(0.33463796477495106, 0.5, 'gini = 0.0\\nsamples = 36\\nvalue = [36, 0]'),\n",
       " Text(0.350293542074364, 0.5, 'x[5] <= 0.016\\ngini = 0.18\\nsamples = 60\\nvalue = [54, 6]'),\n",
       " Text(0.3287671232876712, 0.4090909090909091, 'x[2] <= 0.125\\ngini = 0.5\\nsamples = 4\\nvalue = [2, 2]'),\n",
       " Text(0.32093933463796476, 0.3181818181818182, 'x[1] <= 0.516\\ngini = 0.444\\nsamples = 3\\nvalue = [1, 2]'),\n",
       " Text(0.3131115459882583, 0.22727272727272727, 'gini = 0.5\\nsamples = 2\\nvalue = [1, 1]'),\n",
       " Text(0.3287671232876712, 0.22727272727272727, 'gini = 0.0\\nsamples = 1\\nvalue = [0, 1]'),\n",
       " Text(0.33659491193737767, 0.3181818181818182, 'gini = 0.0\\nsamples = 1\\nvalue = [1, 0]'),\n",
       " Text(0.37181996086105673, 0.4090909090909091, 'x[5] <= 0.026\\ngini = 0.133\\nsamples = 56\\nvalue = [52, 4]'),\n",
       " Text(0.3639921722113503, 0.3181818181818182, 'x[1] <= 0.742\\ngini = 0.193\\nsamples = 37\\nvalue = [33, 4]'),\n",
       " Text(0.34442270058708413, 0.22727272727272727, 'x[5] <= 0.025\\ngini = 0.161\\nsamples = 34\\nvalue = [31, 3]'),\n",
       " Text(0.3287671232876712, 0.13636363636363635, 'x[1] <= 0.554\\ngini = 0.083\\nsamples = 23\\nvalue = [22, 1]'),\n",
       " Text(0.32093933463796476, 0.045454545454545456, 'gini = 0.0\\nsamples = 16\\nvalue = [16, 0]'),\n",
       " Text(0.33659491193737767, 0.045454545454545456, 'gini = 0.245\\nsamples = 7\\nvalue = [6, 1]'),\n",
       " Text(0.36007827788649704, 0.13636363636363635, 'x[1] <= 0.56\\ngini = 0.298\\nsamples = 11\\nvalue = [9, 2]'),\n",
       " Text(0.3522504892367906, 0.045454545454545456, 'gini = 0.375\\nsamples = 8\\nvalue = [6, 2]'),\n",
       " Text(0.3679060665362035, 0.045454545454545456, 'gini = 0.0\\nsamples = 3\\nvalue = [3, 0]'),\n",
       " Text(0.3835616438356164, 0.22727272727272727, 'x[1] <= 0.799\\ngini = 0.444\\nsamples = 3\\nvalue = [2, 1]'),\n",
       " Text(0.37573385518590996, 0.13636363636363635, 'gini = 0.0\\nsamples = 1\\nvalue = [0, 1]'),\n",
       " Text(0.3913894324853229, 0.13636363636363635, 'gini = 0.0\\nsamples = 2\\nvalue = [2, 0]'),\n",
       " Text(0.3796477495107632, 0.3181818181818182, 'gini = 0.0\\nsamples = 19\\nvalue = [19, 0]'),\n",
       " Text(0.4187866927592955, 0.6818181818181818, 'x[1] <= 0.146\\ngini = 0.49\\nsamples = 35\\nvalue = [20, 15]'),\n",
       " Text(0.40313111545988256, 0.5909090909090909, 'x[2] <= 0.25\\ngini = 0.291\\nsamples = 17\\nvalue = [3, 14]'),\n",
       " Text(0.3953033268101761, 0.5, 'x[3] <= 0.25\\ngini = 0.124\\nsamples = 15\\nvalue = [1, 14]'),\n",
       " Text(0.38747553816046965, 0.4090909090909091, 'gini = 0.0\\nsamples = 12\\nvalue = [0, 12]'),\n",
       " Text(0.40313111545988256, 0.4090909090909091, 'x[5] <= 0.043\\ngini = 0.444\\nsamples = 3\\nvalue = [1, 2]'),\n",
       " Text(0.3953033268101761, 0.3181818181818182, 'gini = 0.0\\nsamples = 2\\nvalue = [0, 2]'),\n",
       " Text(0.410958904109589, 0.3181818181818182, 'gini = 0.0\\nsamples = 1\\nvalue = [1, 0]'),\n",
       " Text(0.410958904109589, 0.5, 'gini = 0.0\\nsamples = 2\\nvalue = [2, 0]'),\n",
       " Text(0.4344422700587084, 0.5909090909090909, 'x[6] <= 0.75\\ngini = 0.105\\nsamples = 18\\nvalue = [17, 1]'),\n",
       " Text(0.42661448140900193, 0.5, 'gini = 0.0\\nsamples = 15\\nvalue = [15, 0]'),\n",
       " Text(0.44227005870841485, 0.5, 'x[5] <= 0.022\\ngini = 0.444\\nsamples = 3\\nvalue = [2, 1]'),\n",
       " Text(0.4344422700587084, 0.4090909090909091, 'gini = 0.0\\nsamples = 2\\nvalue = [2, 0]'),\n",
       " Text(0.4500978473581213, 0.4090909090909091, 'gini = 0.0\\nsamples = 1\\nvalue = [0, 1]'),\n",
       " Text(0.6367416829745597, 0.7727272727272727, 'x[2] <= 0.312\\ngini = 0.448\\nsamples = 162\\nvalue = [107, 55]'),\n",
       " Text(0.5807240704500979, 0.6818181818181818, 'x[1] <= 0.661\\ngini = 0.475\\nsamples = 139\\nvalue = [85, 54]'),\n",
       " Text(0.5078277886497065, 0.5909090909090909, 'x[5] <= 0.052\\ngini = 0.492\\nsamples = 117\\nvalue = [66, 51]'),\n",
       " Text(0.4735812133072407, 0.5, 'x[1] <= 0.173\\ngini = 0.26\\nsamples = 13\\nvalue = [2, 11]'),\n",
       " Text(0.4657534246575342, 0.4090909090909091, 'gini = 0.5\\nsamples = 2\\nvalue = [1, 1]'),\n",
       " Text(0.48140900195694714, 0.4090909090909091, 'x[1] <= 0.541\\ngini = 0.165\\nsamples = 11\\nvalue = [1, 10]'),\n",
       " Text(0.4735812133072407, 0.3181818181818182, 'gini = 0.0\\nsamples = 7\\nvalue = [0, 7]'),\n",
       " Text(0.4892367906066536, 0.3181818181818182, 'x[1] <= 0.579\\ngini = 0.375\\nsamples = 4\\nvalue = [1, 3]'),\n",
       " Text(0.48140900195694714, 0.22727272727272727, 'gini = 0.5\\nsamples = 2\\nvalue = [1, 1]'),\n",
       " Text(0.49706457925636005, 0.22727272727272727, 'gini = 0.0\\nsamples = 2\\nvalue = [0, 2]'),\n",
       " Text(0.5420743639921722, 0.5, 'x[5] <= 0.056\\ngini = 0.473\\nsamples = 104\\nvalue = [64, 40]'),\n",
       " Text(0.5342465753424658, 0.4090909090909091, 'gini = 0.0\\nsamples = 9\\nvalue = [9, 0]'),\n",
       " Text(0.5499021526418787, 0.4090909090909091, 'x[5] <= 0.06\\ngini = 0.488\\nsamples = 95\\nvalue = [55, 40]'),\n",
       " Text(0.5205479452054794, 0.3181818181818182, 'x[1] <= 0.347\\ngini = 0.397\\nsamples = 11\\nvalue = [3, 8]'),\n",
       " Text(0.512720156555773, 0.22727272727272727, 'gini = 0.0\\nsamples = 6\\nvalue = [0, 6]'),\n",
       " Text(0.5283757338551859, 0.22727272727272727, 'x[5] <= 0.059\\ngini = 0.48\\nsamples = 5\\nvalue = [3, 2]'),\n",
       " Text(0.5205479452054794, 0.13636363636363635, 'gini = 0.0\\nsamples = 3\\nvalue = [3, 0]'),\n",
       " Text(0.5362035225048923, 0.13636363636363635, 'gini = 0.0\\nsamples = 2\\nvalue = [0, 2]'),\n",
       " Text(0.5792563600782779, 0.3181818181818182, 'x[5] <= 0.102\\ngini = 0.472\\nsamples = 84\\nvalue = [52, 32]'),\n",
       " Text(0.5596868884540117, 0.22727272727272727, 'x[2] <= 0.188\\ngini = 0.366\\nsamples = 29\\nvalue = [22, 7]'),\n",
       " Text(0.5518590998043053, 0.13636363636363635, 'x[1] <= 0.592\\ngini = 0.337\\nsamples = 28\\nvalue = [22, 6]'),\n",
       " Text(0.5440313111545988, 0.045454545454545456, 'gini = 0.302\\nsamples = 27\\nvalue = [22, 5]'),\n",
       " Text(0.5596868884540117, 0.045454545454545456, 'gini = 0.0\\nsamples = 1\\nvalue = [0, 1]'),\n",
       " Text(0.5675146771037182, 0.13636363636363635, 'gini = 0.0\\nsamples = 1\\nvalue = [0, 1]'),\n",
       " Text(0.598825831702544, 0.22727272727272727, 'x[5] <= 0.115\\ngini = 0.496\\nsamples = 55\\nvalue = [30, 25]'),\n",
       " Text(0.5831702544031311, 0.13636363636363635, 'x[1] <= 0.617\\ngini = 0.43\\nsamples = 16\\nvalue = [5, 11]'),\n",
       " Text(0.5753424657534246, 0.045454545454545456, 'gini = 0.391\\nsamples = 15\\nvalue = [4, 11]'),\n",
       " Text(0.5909980430528375, 0.045454545454545456, 'gini = 0.0\\nsamples = 1\\nvalue = [1, 0]'),\n",
       " Text(0.6144814090019569, 0.13636363636363635, 'x[3] <= 0.25\\ngini = 0.46\\nsamples = 39\\nvalue = [25, 14]'),\n",
       " Text(0.6066536203522505, 0.045454545454545456, 'gini = 0.397\\nsamples = 33\\nvalue = [24, 9]'),\n",
       " Text(0.6223091976516634, 0.045454545454545456, 'gini = 0.278\\nsamples = 6\\nvalue = [1, 5]'),\n",
       " Text(0.6536203522504892, 0.5909090909090909, 'x[1] <= 0.943\\ngini = 0.236\\nsamples = 22\\nvalue = [19, 3]'),\n",
       " Text(0.6457925636007827, 0.5, 'x[6] <= 0.75\\ngini = 0.172\\nsamples = 21\\nvalue = [19, 2]'),\n",
       " Text(0.6379647749510763, 0.4090909090909091, 'gini = 0.0\\nsamples = 13\\nvalue = [13, 0]'),\n",
       " Text(0.6536203522504892, 0.4090909090909091, 'x[2] <= 0.062\\ngini = 0.375\\nsamples = 8\\nvalue = [6, 2]'),\n",
       " Text(0.6457925636007827, 0.3181818181818182, 'x[1] <= 0.711\\ngini = 0.245\\nsamples = 7\\nvalue = [6, 1]'),\n",
       " Text(0.6379647749510763, 0.22727272727272727, 'x[5] <= 0.065\\ngini = 0.5\\nsamples = 2\\nvalue = [1, 1]'),\n",
       " Text(0.6301369863013698, 0.13636363636363635, 'gini = 0.0\\nsamples = 1\\nvalue = [1, 0]'),\n",
       " Text(0.6457925636007827, 0.13636363636363635, 'gini = 0.0\\nsamples = 1\\nvalue = [0, 1]'),\n",
       " Text(0.6536203522504892, 0.22727272727272727, 'gini = 0.0\\nsamples = 5\\nvalue = [5, 0]'),\n",
       " Text(0.6614481409001957, 0.3181818181818182, 'gini = 0.0\\nsamples = 1\\nvalue = [0, 1]'),\n",
       " Text(0.6614481409001957, 0.5, 'gini = 0.0\\nsamples = 1\\nvalue = [0, 1]'),\n",
       " Text(0.6927592954990215, 0.6818181818181818, 'x[1] <= 0.039\\ngini = 0.083\\nsamples = 23\\nvalue = [22, 1]'),\n",
       " Text(0.684931506849315, 0.5909090909090909, 'x[1] <= 0.026\\ngini = 0.198\\nsamples = 9\\nvalue = [8, 1]'),\n",
       " Text(0.6771037181996086, 0.5, 'gini = 0.0\\nsamples = 8\\nvalue = [8, 0]'),\n",
       " Text(0.6927592954990215, 0.5, 'gini = 0.0\\nsamples = 1\\nvalue = [0, 1]'),\n",
       " Text(0.700587084148728, 0.5909090909090909, 'gini = 0.0\\nsamples = 14\\nvalue = [14, 0]'),\n",
       " Text(0.8431996086105675, 0.8636363636363636, 'x[4] <= 0.75\\ngini = 0.383\\nsamples = 314\\nvalue = [81, 233]'),\n",
       " Text(0.7553816046966731, 0.7727272727272727, 'x[5] <= 0.056\\ngini = 0.1\\nsamples = 170\\nvalue = [9, 161]'),\n",
       " Text(0.7397260273972602, 0.6818181818181818, 'x[5] <= 0.055\\ngini = 0.18\\nsamples = 70\\nvalue = [7, 63]'),\n",
       " Text(0.7318982387475538, 0.5909090909090909, 'x[1] <= 0.698\\ngini = 0.159\\nsamples = 69\\nvalue = [6, 63]'),\n",
       " Text(0.7084148727984344, 0.5, 'x[2] <= 0.062\\ngini = 0.138\\nsamples = 67\\nvalue = [5, 62]'),\n",
       " Text(0.684931506849315, 0.4090909090909091, 'x[5] <= 0.026\\ngini = 0.085\\nsamples = 45\\nvalue = [2, 43]'),\n",
       " Text(0.6771037181996086, 0.3181818181818182, 'x[5] <= 0.025\\ngini = 0.147\\nsamples = 25\\nvalue = [2, 23]'),\n",
       " Text(0.6692759295499021, 0.22727272727272727, 'gini = 0.0\\nsamples = 11\\nvalue = [0, 11]'),\n",
       " Text(0.684931506849315, 0.22727272727272727, 'x[1] <= 0.321\\ngini = 0.245\\nsamples = 14\\nvalue = [2, 12]'),\n",
       " Text(0.6692759295499021, 0.13636363636363635, 'x[1] <= 0.259\\ngini = 0.444\\nsamples = 3\\nvalue = [1, 2]'),\n",
       " Text(0.6614481409001957, 0.045454545454545456, 'gini = 0.0\\nsamples = 1\\nvalue = [0, 1]'),\n",
       " Text(0.6771037181996086, 0.045454545454545456, 'gini = 0.5\\nsamples = 2\\nvalue = [1, 1]'),\n",
       " Text(0.700587084148728, 0.13636363636363635, 'x[1] <= 0.46\\ngini = 0.165\\nsamples = 11\\nvalue = [1, 10]'),\n",
       " Text(0.6927592954990215, 0.045454545454545456, 'gini = 0.0\\nsamples = 8\\nvalue = [0, 8]'),\n",
       " Text(0.7084148727984344, 0.045454545454545456, 'gini = 0.444\\nsamples = 3\\nvalue = [1, 2]'),\n",
       " Text(0.6927592954990215, 0.3181818181818182, 'gini = 0.0\\nsamples = 20\\nvalue = [0, 20]'),\n",
       " Text(0.7318982387475538, 0.4090909090909091, 'x[1] <= 0.309\\ngini = 0.236\\nsamples = 22\\nvalue = [3, 19]'),\n",
       " Text(0.7240704500978473, 0.3181818181818182, 'gini = 0.0\\nsamples = 7\\nvalue = [0, 7]'),\n",
       " Text(0.7397260273972602, 0.3181818181818182, 'x[1] <= 0.34\\ngini = 0.32\\nsamples = 15\\nvalue = [3, 12]'),\n",
       " Text(0.7240704500978473, 0.22727272727272727, 'x[6] <= 0.75\\ngini = 0.444\\nsamples = 3\\nvalue = [2, 1]'),\n",
       " Text(0.7162426614481409, 0.13636363636363635, 'gini = 0.0\\nsamples = 2\\nvalue = [2, 0]'),\n",
       " Text(0.7318982387475538, 0.13636363636363635, 'gini = 0.0\\nsamples = 1\\nvalue = [0, 1]'),\n",
       " Text(0.7553816046966731, 0.22727272727272727, 'x[1] <= 0.535\\ngini = 0.153\\nsamples = 12\\nvalue = [1, 11]'),\n",
       " Text(0.7475538160469667, 0.13636363636363635, 'gini = 0.0\\nsamples = 9\\nvalue = [0, 9]'),\n",
       " Text(0.7632093933463796, 0.13636363636363635, 'x[1] <= 0.554\\ngini = 0.444\\nsamples = 3\\nvalue = [1, 2]'),\n",
       " Text(0.7553816046966731, 0.045454545454545456, 'gini = 0.0\\nsamples = 1\\nvalue = [1, 0]'),\n",
       " Text(0.7710371819960861, 0.045454545454545456, 'gini = 0.0\\nsamples = 2\\nvalue = [0, 2]'),\n",
       " Text(0.7553816046966731, 0.5, 'x[4] <= 0.25\\ngini = 0.5\\nsamples = 2\\nvalue = [1, 1]'),\n",
       " Text(0.7475538160469667, 0.4090909090909091, 'gini = 0.0\\nsamples = 1\\nvalue = [0, 1]'),\n",
       " Text(0.7632093933463796, 0.4090909090909091, 'gini = 0.0\\nsamples = 1\\nvalue = [1, 0]'),\n",
       " Text(0.7475538160469667, 0.5909090909090909, 'gini = 0.0\\nsamples = 1\\nvalue = [1, 0]'),\n",
       " Text(0.7710371819960861, 0.6818181818181818, 'x[3] <= 0.25\\ngini = 0.039\\nsamples = 100\\nvalue = [2, 98]'),\n",
       " Text(0.7632093933463796, 0.5909090909090909, 'gini = 0.0\\nsamples = 84\\nvalue = [0, 84]'),\n",
       " Text(0.7788649706457925, 0.5909090909090909, 'x[1] <= 0.026\\ngini = 0.219\\nsamples = 16\\nvalue = [2, 14]'),\n",
       " Text(0.7710371819960861, 0.5, 'gini = 0.0\\nsamples = 1\\nvalue = [1, 0]'),\n",
       " Text(0.786692759295499, 0.5, 'x[1] <= 0.303\\ngini = 0.124\\nsamples = 15\\nvalue = [1, 14]'),\n",
       " Text(0.7788649706457925, 0.4090909090909091, 'gini = 0.0\\nsamples = 10\\nvalue = [0, 10]'),\n",
       " Text(0.7945205479452054, 0.4090909090909091, 'x[1] <= 0.347\\ngini = 0.32\\nsamples = 5\\nvalue = [1, 4]'),\n",
       " Text(0.786692759295499, 0.3181818181818182, 'gini = 0.0\\nsamples = 1\\nvalue = [1, 0]'),\n",
       " Text(0.8023483365949119, 0.3181818181818182, 'gini = 0.0\\nsamples = 4\\nvalue = [0, 4]'),\n",
       " Text(0.9310176125244618, 0.7727272727272727, 'x[5] <= 0.046\\ngini = 0.5\\nsamples = 144\\nvalue = [72, 72]'),\n",
       " Text(0.8933463796477495, 0.6818181818181818, 'x[1] <= 0.202\\ngini = 0.484\\nsamples = 117\\nvalue = [48, 69]'),\n",
       " Text(0.8493150684931506, 0.5909090909090909, 'x[2] <= 0.312\\ngini = 0.404\\nsamples = 57\\nvalue = [16, 41]'),\n",
       " Text(0.8414872798434442, 0.5, 'x[5] <= 0.03\\ngini = 0.38\\nsamples = 55\\nvalue = [14, 41]'),\n",
       " Text(0.8336594911937377, 0.4090909090909091, 'x[5] <= 0.027\\ngini = 0.45\\nsamples = 41\\nvalue = [14, 27]'),\n",
       " Text(0.8180039138943248, 0.3181818181818182, 'x[3] <= 0.25\\ngini = 0.382\\nsamples = 35\\nvalue = [9, 26]'),\n",
       " Text(0.8101761252446184, 0.22727272727272727, 'x[5] <= 0.016\\ngini = 0.36\\nsamples = 34\\nvalue = [8, 26]'),\n",
       " Text(0.7945205479452054, 0.13636363636363635, 'x[6] <= 0.25\\ngini = 0.269\\nsamples = 25\\nvalue = [4, 21]'),\n",
       " Text(0.786692759295499, 0.045454545454545456, 'gini = 0.188\\nsamples = 19\\nvalue = [2, 17]'),\n",
       " Text(0.8023483365949119, 0.045454545454545456, 'gini = 0.444\\nsamples = 6\\nvalue = [2, 4]'),\n",
       " Text(0.8258317025440313, 0.13636363636363635, 'x[5] <= 0.021\\ngini = 0.494\\nsamples = 9\\nvalue = [4, 5]'),\n",
       " Text(0.8180039138943248, 0.045454545454545456, 'gini = 0.0\\nsamples = 4\\nvalue = [4, 0]'),\n",
       " Text(0.8336594911937377, 0.045454545454545456, 'gini = 0.0\\nsamples = 5\\nvalue = [0, 5]'),\n",
       " Text(0.8258317025440313, 0.22727272727272727, 'gini = 0.0\\nsamples = 1\\nvalue = [1, 0]'),\n",
       " Text(0.8493150684931506, 0.3181818181818182, 'x[1] <= 0.18\\ngini = 0.278\\nsamples = 6\\nvalue = [5, 1]'),\n",
       " Text(0.8414872798434442, 0.22727272727272727, 'gini = 0.0\\nsamples = 5\\nvalue = [5, 0]'),\n",
       " Text(0.8571428571428571, 0.22727272727272727, 'gini = 0.0\\nsamples = 1\\nvalue = [0, 1]'),\n",
       " Text(0.8493150684931506, 0.4090909090909091, 'gini = 0.0\\nsamples = 14\\nvalue = [0, 14]'),\n",
       " Text(0.8571428571428571, 0.5, 'gini = 0.0\\nsamples = 2\\nvalue = [2, 0]'),\n",
       " Text(0.9373776908023483, 0.5909090909090909, 'x[1] <= 0.453\\ngini = 0.498\\nsamples = 60\\nvalue = [32, 28]'),\n",
       " Text(0.9217221135029354, 0.5, 'x[1] <= 0.403\\ngini = 0.5\\nsamples = 53\\nvalue = [26, 27]'),\n",
       " Text(0.913894324853229, 0.4090909090909091, 'x[3] <= 0.25\\ngini = 0.499\\nsamples = 50\\nvalue = [26, 24]'),\n",
       " Text(0.8923679060665362, 0.3181818181818182, 'x[5] <= 0.015\\ngini = 0.491\\nsamples = 44\\nvalue = [25, 19]'),\n",
       " Text(0.87279843444227, 0.22727272727272727, 'x[1] <= 0.35\\ngini = 0.469\\nsamples = 16\\nvalue = [6, 10]'),\n",
       " Text(0.8649706457925636, 0.13636363636363635, 'x[1] <= 0.227\\ngini = 0.408\\nsamples = 14\\nvalue = [4, 10]'),\n",
       " Text(0.8571428571428571, 0.045454545454545456, 'gini = 0.444\\nsamples = 3\\nvalue = [2, 1]'),\n",
       " Text(0.87279843444227, 0.045454545454545456, 'gini = 0.298\\nsamples = 11\\nvalue = [2, 9]'),\n",
       " Text(0.8806262230919765, 0.13636363636363635, 'gini = 0.0\\nsamples = 2\\nvalue = [2, 0]'),\n",
       " Text(0.9119373776908023, 0.22727272727272727, 'x[1] <= 0.29\\ngini = 0.436\\nsamples = 28\\nvalue = [19, 9]'),\n",
       " Text(0.8962818003913894, 0.13636363636363635, 'x[1] <= 0.233\\ngini = 0.278\\nsamples = 12\\nvalue = [10, 2]'),\n",
       " Text(0.8884540117416829, 0.045454545454545456, 'gini = 0.444\\nsamples = 6\\nvalue = [4, 2]'),\n",
       " Text(0.9041095890410958, 0.045454545454545456, 'gini = 0.0\\nsamples = 6\\nvalue = [6, 0]'),\n",
       " Text(0.9275929549902152, 0.13636363636363635, 'x[2] <= 0.062\\ngini = 0.492\\nsamples = 16\\nvalue = [9, 7]'),\n",
       " Text(0.9197651663405088, 0.045454545454545456, 'gini = 0.469\\nsamples = 8\\nvalue = [3, 5]'),\n",
       " Text(0.9354207436399217, 0.045454545454545456, 'gini = 0.375\\nsamples = 8\\nvalue = [6, 2]'),\n",
       " Text(0.9354207436399217, 0.3181818181818182, 'x[3] <= 0.583\\ngini = 0.278\\nsamples = 6\\nvalue = [1, 5]'),\n",
       " Text(0.9275929549902152, 0.22727272727272727, 'gini = 0.0\\nsamples = 5\\nvalue = [0, 5]'),\n",
       " Text(0.9432485322896281, 0.22727272727272727, 'gini = 0.0\\nsamples = 1\\nvalue = [1, 0]'),\n",
       " Text(0.9295499021526419, 0.4090909090909091, 'gini = 0.0\\nsamples = 3\\nvalue = [0, 3]'),\n",
       " Text(0.9530332681017613, 0.5, 'x[1] <= 0.686\\ngini = 0.245\\nsamples = 7\\nvalue = [6, 1]'),\n",
       " Text(0.9452054794520548, 0.4090909090909091, 'gini = 0.0\\nsamples = 6\\nvalue = [6, 0]'),\n",
       " Text(0.9608610567514677, 0.4090909090909091, 'gini = 0.0\\nsamples = 1\\nvalue = [0, 1]'),\n",
       " Text(0.9686888454011742, 0.6818181818181818, 'x[3] <= 0.083\\ngini = 0.198\\nsamples = 27\\nvalue = [24, 3]'),\n",
       " Text(0.9608610567514677, 0.5909090909090909, 'gini = 0.0\\nsamples = 1\\nvalue = [0, 1]'),\n",
       " Text(0.9765166340508806, 0.5909090909090909, 'x[5] <= 0.061\\ngini = 0.142\\nsamples = 26\\nvalue = [24, 2]'),\n",
       " Text(0.9686888454011742, 0.5, 'gini = 0.0\\nsamples = 15\\nvalue = [15, 0]'),\n",
       " Text(0.9843444227005871, 0.5, 'x[5] <= 0.064\\ngini = 0.298\\nsamples = 11\\nvalue = [9, 2]'),\n",
       " Text(0.9765166340508806, 0.4090909090909091, 'gini = 0.0\\nsamples = 2\\nvalue = [0, 2]'),\n",
       " Text(0.9921722113502935, 0.4090909090909091, 'gini = 0.0\\nsamples = 9\\nvalue = [9, 0]')]"
      ]
     },
     "execution_count": 7,
     "metadata": {},
     "output_type": "execute_result"
    },
    {
     "data": {
      "image/png": "[encoded data removed]",
      "text/plain": [
       "<Figure size 640x480 with 1 Axes>"
      ]
     },
     "metadata": {},
     "output_type": "display_data"
    }
   ],
   "source": [
    "# 3b) Learn a decision tree model with the Titanic training data using Gini index, plot your decision tree; (4 points)\n",
    "# Plot Decision Tree\n",
    "\n",
    "from sklearn import tree\n",
    "\n",
    "tree.plot_tree(clf)"
   ]
  },
  {
   "cell_type": "code",
   "execution_count": 8,
   "metadata": {},
   "outputs": [
    {
     "name": "stdout",
     "output_type": "stream",
     "text": [
      "Accuracy of Decision Tree: 0.794 (Standard Deviation: 0.024)\n"
     ]
    }
   ],
   "source": [
    "# 4) Apply the five-fold cross validation of the decision tree learning algorithm to the Titanic training data to extract average classification accuracy (using max_depth=10); (5 points)\n",
    "\n",
    "from numpy import mean\n",
    "from numpy import std\n",
    "from sklearn.model_selection import KFold,cross_val_score\n",
    "\n",
    "# Prepare Cross Validation Procedure using 5 fold cross-validation\n",
    "cv = KFold(n_splits=5, random_state=1,shuffle=True)\n",
    "\n",
    "# Evaluate model\n",
    "scores=cross_val_score(clf,train_X,train_Label, scoring='accuracy',cv=cv, n_jobs=-1)\n",
    "\n",
    "# Report Performance\n",
    "print('Accuracy of Decision Tree: %.3f (Standard Deviation: %.3f)' % (mean(scores), std(scores)))"
   ]
  },
  {
   "cell_type": "code",
   "execution_count": 9,
   "metadata": {},
   "outputs": [
    {
     "data": {
      "text/plain": [
       "'\\nWhat is values.ravel() ???\\n\\n.values will give the values in a numpy array (shape:(n,1))\\n.ravel will convert the array shape to (n,)(i.e flatten it)\\n\\n'"
      ]
     },
     "execution_count": 9,
     "metadata": {},
     "output_type": "execute_result"
    }
   ],
   "source": [
    "# 5a) Apply the five-fold cross validation of the random forest learning algorithm to the Titanic training data to extract average classification accuracy (using n_estimators=200); (5 points)\n",
    "\n",
    "# Train a random forest algorithm\n",
    "\n",
    "from sklearn.ensemble import RandomForestClassifier\n",
    "\n",
    "# Create classifier object\n",
    "randomclf = RandomForestClassifier(n_estimators=200)\n",
    "\n",
    "# Train Random Forest Classifier\n",
    "randomclf = randomclf.fit(train_X,train_Label.values.ravel())\n",
    "\n",
    "\"\"\"\n",
    "What is values.ravel() ???\n",
    "\n",
    ".values will give the values in a numpy array (shape:(n,1))\n",
    ".ravel will convert the array shape to (n,)(i.e flatten it)\n",
    "\n",
    "\"\"\"\n",
    "\n",
    "\n"
   ]
  },
  {
   "cell_type": "code",
   "execution_count": 10,
   "metadata": {},
   "outputs": [
    {
     "name": "stdout",
     "output_type": "stream",
     "text": [
      "Accuracy of Random Forest: 0.810 (Standard Deviation: 0.023)\n"
     ]
    }
   ],
   "source": [
    "# 5b) Apply the five-fold cross validation of the random forest learning algorithm to the Titanic training data to extract average classification accuracy (using n_estimators=200); (5 points)\n",
    "\n",
    "# Prepare Cross Validation Procedure using 5 fold cross-validation\n",
    "cv2 = KFold(n_splits=5, random_state=1,shuffle=True)\n",
    "\n",
    "# Evaluate model\n",
    "scores=cross_val_score(randomclf,train_X,train_Label.values.ravel(), scoring='accuracy',cv=cv2, n_jobs=-1)\n",
    "\n",
    "# Report Performance\n",
    "print('Accuracy of Random Forest: %.3f (Standard Deviation: %.3f)' % (mean(scores), std(scores)))\n"
   ]
  },
  {
   "cell_type": "code",
   "execution_count": 11,
   "metadata": {},
   "outputs": [
    {
     "data": {
      "text/plain": [
       "'\\n    My observation for the algorithms is that with some tuning of the hyperparameters, both th Decision Tree Classifier and the Random Forest Classifier can perform about as well. However the Random Forest should theoretically have increased accuracy since it averages out many decision trees.\\n\\n    Possibly, the accuracy difference would be much greater on a  real world test dataset then using a training and validation set to test the accuracy.    \\n\\n'"
      ]
     },
     "execution_count": 11,
     "metadata": {},
     "output_type": "execute_result"
    }
   ],
   "source": [
    "# 6) Which algorithm is better, Decision Tree or Random Forest? (5 points)\n",
    "\n",
    "\"\"\"\n",
    "    The Random Forest Algorithm with n_estimators= 500 did better then the Decision Tree Classifier with a max_depth=10. With an accuracy of 80.1% vs 78.3% for the Decision Tree.\n",
    "\n",
    "    However, this doesn't mean one algorithm is necessarily better in performance then the other. Decreasing the the max_depth of the Decision Tree Classifier improved performance to match the the Random Forest.\n",
    "\n",
    "\"\"\"\n",
    "\n",
    "# 7) What are your observations and conclusions from the algorithm comparison and analysis? (5 points)\n",
    "\n",
    "\"\"\"\n",
    "    My observation for the algorithms is that with some tuning of the hyperparameters, both th Decision Tree Classifier and the Random Forest Classifier can perform about as well. However the Random Forest should theoretically have increased accuracy since it averages out many decision trees.\n",
    "\n",
    "    Possibly, the accuracy difference would be much greater on a  real world test dataset then using a training and validation set to test the accuracy.    \n",
    "\n",
    "\"\"\"\n"
   ]
  }
 ],
 "metadata": {
  "kernelspec": {
   "display_name": "base",
   "language": "python",
   "name": "python3"
  },
  "language_info": {
   "codemirror_mode": {
    "name": "ipython",
    "version": 3
   },
   "file_extension": ".py",
   "mimetype": "text/x-python",
   "name": "python",
   "nbconvert_exporter": "python",
   "pygments_lexer": "ipython3",
   "version": "3.12.2"
  }
 },
 "nbformat": 4,
 "nbformat_minor": 2
}
