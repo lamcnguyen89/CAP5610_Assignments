{
 "cells": [
  {
   "cell_type": "markdown",
   "metadata": {},
   "source": [
    "# Recurrent Neural Network Homework\n",
    "\n",
    "This is the 4th assignment for CAP 4630 and we will implement a basic RNN network and an LSTM network with Pytorch to solve two problems. \\\n",
    "You will use **\"Tasks\"** and **\"Hints\"** to finish the work. **(Total 60 points, with extra 10 bonus points)** \\\n",
    "You may use Machine Learning libaries like Scikit-learn for data preprocessing.\n",
    "\n",
    "**Task Overview:**\n",
    "- Implement a basic RNN network to solve time series prediction\n",
    "- Implement an LSTM network to conduct sentiment analysis"
   ]
  },
  {
   "cell_type": "markdown",
   "metadata": {},
   "source": [
    "## 1 - Implement a RNN model to predict time series##\n",
    "### 1.1 Prepare the data (10 Points)\n",
    "\n",
    "Prepare time series data for deep neural network training.\n",
    "\n",
    "**Tasks:**\n",
    "1. Load the given train and test data: \"train.txt\" and \"test.txt\". **(2.5 Points)**\n",
    "2. Generate the **TRAIN** and **TEST** labels. **(2.5 Points)**\n",
    "3. Normalize the **TRAIN** and **TEST** data with sklearn function \"MinMaxScaler\". **(2.5 Points)**\n",
    "4. **PRINT OUT** the **TEST** data and label. **(2.5 Points)**\n",
    "\n",
    "**Hints:**  \n",
    "1. The length of original train data is 113 which starts from **\"1949-01\"** to **\"1958-05\"**. The length of original test data is 29, which starts from **\"1958-07\"** to **\"1960-11\"**.\n",
    "2. Set the data types of both train and test data to \"float32\".\n",
    "3. Use **past 12** datapoints as input data X to predict the **next 1** datapoint as Y, which is the 'next token prediction'. The time window will be 12.\n",
    "4. The first 3 **TRAIN** data and label should be:\n",
    "\n",
    "- trainX[0] = [[0.02203858 &nbsp; 0.03856748 &nbsp; 0.077135 &nbsp;  0.06887051 &nbsp; 0.04683197 &nbsp; 0.08539945 &nbsp; 0.12121212 &nbsp; 0.12121212 &nbsp; 0.08815429 &nbsp; 0.04132232 &nbsp; 0.    &nbsp; 0.03856748]]\n",
    "- trainY[0] = [0.03030303]\n",
    "\n",
    "- trianX[1] = [[0.03856748 &nbsp; 0.077135 &nbsp;  0.06887051 &nbsp; 0.04683197  &nbsp; 0.08539945  &nbsp; 0.12121212  &nbsp; 0.12121212  &nbsp; 0.08815429  &nbsp; 0.04132232  &nbsp; 0.     &nbsp;  0.03856748   &nbsp; 0.03030303]]\n",
    "- trainY[1] = [0.06060606]\n",
    "\n",
    "- trainX[2] =  [[0.077135 &nbsp;  0.06887051 &nbsp; 0.04683197 &nbsp; 0.08539945 &nbsp; 0.12121212 &nbsp; 0.12121212 &nbsp; 0.08815429 &nbsp; 0.04132232 &nbsp; 0.    &nbsp;     0.03856748 &nbsp; 0.03030303 &nbsp; 0.06060606]]\n",
    "- trainY[2] = [0.10192838]\n",
    "\n",
    "5. Apply the MinMaxScaler to both the train and test data.\\\n",
    "https://scikit-learn.org/stable/modules/generated/sklearn.preprocessing.MinMaxScaler.html"
   ]
  },
  {
   "cell_type": "code",
   "execution_count": 127,
   "metadata": {},
   "outputs": [
    {
     "data": {
      "text/plain": [
       "'\\n\\nhttps://www.kaggle.com/code/kanncaa1/recurrent-neural-network-with-pytorch\\nhttps://medium.com/dejunhuang/learning-day-27-implementing-rnn-in-pytorch-for-time-series-prediction-3ddb6190e83d\\n'"
      ]
     },
     "execution_count": 127,
     "metadata": {},
     "output_type": "execute_result"
    }
   ],
   "source": [
    "\"\"\"\n",
    "\n",
    "https://www.kaggle.com/code/kanncaa1/recurrent-neural-network-with-pytorch\n",
    "https://medium.com/dejunhuang/learning-day-27-implementing-rnn-in-pytorch-for-time-series-prediction-3ddb6190e83d\n",
    "\"\"\""
   ]
  },
  {
   "cell_type": "code",
   "execution_count": 128,
   "metadata": {},
   "outputs": [
    {
     "name": "stdout",
     "output_type": "stream",
     "text": [
      "cuda\n"
     ]
    }
   ],
   "source": [
    "# Import Packages\n",
    "\n",
    "import pandas as pd\n",
    "import numpy as np\n",
    "import math\n",
    "import matplotlib.pyplot as plt # Visualization \n",
    "import matplotlib.dates as mdates # Formatting dates\n",
    "import seaborn as sns # Visualization\n",
    "from sklearn.preprocessing import MinMaxScaler\n",
    "import torch # Library for implementing Deep Neural Network \n",
    "import torch.nn as nn\n",
    "import torch.nn.functional as F\n",
    "import torch.optim as optim\n",
    "from torch.utils.data import Dataset, DataLoader\n",
    "from torch.autograd import Variable\n",
    "\n",
    "\n",
    "# Set up for GPU\n",
    "device = torch.device('cuda' if torch.cuda.is_available() else 'cpu')\n",
    "print(device)"
   ]
  },
  {
   "cell_type": "code",
   "execution_count": 129,
   "metadata": {},
   "outputs": [
    {
     "name": "stdout",
     "output_type": "stream",
     "text": [
      "     Month  Passengers\n",
      "0  1949-01         112\n",
      "1  1949-02         118\n",
      "2  1949-03         132\n",
      "3  1949-04         129\n",
      "4  1949-05         121\n",
      "     Month  Passengers\n",
      "0  1958-07         491\n",
      "1  1958-08         505\n",
      "2  1958-09         404\n",
      "3  1958-10         359\n",
      "4  1958-11         310\n"
     ]
    }
   ],
   "source": [
    "# Import Dataset\n",
    "\n",
    "train_dataset = pd.read_csv('data/train-1.csv', usecols=['Month','Passengers'])\n",
    "test_dataset = pd.read_csv('data/test-1.csv', usecols=['Month','Passengers'])\n",
    "\n",
    "print(train_dataset.head())\n",
    "print(test_dataset.head())"
   ]
  },
  {
   "cell_type": "code",
   "execution_count": 130,
   "metadata": {},
   "outputs": [
    {
     "name": "stdout",
     "output_type": "stream",
     "text": [
      "      Month  Passengers\n",
      "0  194901.0       112.0\n",
      "1  194902.0       118.0\n",
      "2  194903.0       132.0\n",
      "3  194904.0       129.0\n",
      "4  194905.0       121.0\n",
      "\n",
      "\n",
      "      Month  Passengers\n",
      "0  195807.0       491.0\n",
      "1  195808.0       505.0\n",
      "2  195809.0       404.0\n",
      "3  195810.0       359.0\n",
      "4  195811.0       310.0\n",
      "\n",
      "\n",
      "Training Dataset Shape:  (113, 2)\n",
      "Test Dataset Shape:  (29, 2)\n"
     ]
    }
   ],
   "source": [
    "# Preprocess Dataset\n",
    "# Convert type of values to float\n",
    "\n",
    "import datetime as dt\n",
    "\n",
    "train_dataset['Month'] = train_dataset['Month'].str.replace('-','')\n",
    "test_dataset['Month'] = test_dataset['Month'].str.replace('-','')\n",
    "\n",
    "\n",
    "train_dataset[\"Month\"] = pd.to_numeric(train_dataset[\"Month\"], downcast=\"float\")\n",
    "test_dataset[\"Month\"] = pd.to_numeric(test_dataset[\"Month\"], downcast=\"float\")\n",
    "train_dataset[\"Passengers\"] = pd.to_numeric(train_dataset[\"Passengers\"], downcast=\"float\")\n",
    "test_dataset[\"Passengers\"] = pd.to_numeric(test_dataset[\"Passengers\"], downcast=\"float\")\n",
    "\n",
    "\n",
    "print(train_dataset.head())\n",
    "print(\"\\n\")\n",
    "print(test_dataset.head())\n",
    "print(\"\\n\")\n",
    "\n",
    "print(\"Training Dataset Shape: \", train_dataset.shape)\n",
    "print(\"Test Dataset Shape: \", test_dataset.shape)"
   ]
  },
  {
   "cell_type": "code",
   "execution_count": 131,
   "metadata": {},
   "outputs": [],
   "source": [
    "# Preprocess Data\n",
    "\n",
    "# Normalize data:\n",
    "def normalize(df):\n",
    "    result = df.copy()\n",
    "    for feature_name in df.columns:\n",
    "        max_value = df[feature_name].max()\n",
    "        min_value = df[feature_name].min()\n",
    "        result[feature_name] = (df[feature_name] - min_value) / (max_value - min_value)\n",
    "    return result\n",
    "\n",
    "train_dataset = normalize(train_dataset)\n",
    "test_dataset = normalize(test_dataset)\n",
    "\n"
   ]
  },
  {
   "cell_type": "code",
   "execution_count": 132,
   "metadata": {},
   "outputs": [],
   "source": [
    "# Reshape from 2D to 1D array\n",
    "train_dataset =np.reshape(train_dataset,(-1,1))\n",
    "test_dataset=np.reshape(test_dataset,(-1,1))\n"
   ]
  },
  {
   "cell_type": "code",
   "execution_count": 133,
   "metadata": {},
   "outputs": [
    {
     "name": "stdout",
     "output_type": "stream",
     "text": [
      "[[0.        ]\n",
      " [0.02203857]\n",
      " [0.00110619]\n",
      " [0.03856749]\n",
      " [0.00221239]]\n",
      "[[0.        ]\n",
      " [0.5801282 ]\n",
      " [0.00490196]\n",
      " [0.625     ]\n",
      " [0.00980392]]\n"
     ]
    }
   ],
   "source": [
    "# Apply Min Max Scalar\n",
    "scaler = MinMaxScaler(feature_range=(0,1))\n",
    "# scaling dataset\n",
    "scaled_train = scaler.fit_transform(train_dataset)\n",
    " \n",
    "print(scaled_train[:5])\n",
    "# Normalizing values between 0 and 1\n",
    "scaled_test = scaler.fit_transform(test_dataset)\n",
    "print(scaled_test[:5]) #prints the first 5 rows"
   ]
  },
  {
   "cell_type": "code",
   "execution_count": 134,
   "metadata": {},
   "outputs": [
    {
     "data": {
      "text/plain": [
       "(torch.Size([214, 12, 1]), torch.Size([214, 12, 1]))"
      ]
     },
     "execution_count": 134,
     "metadata": {},
     "output_type": "execute_result"
    }
   ],
   "source": [
    "# Create sequences and labels for training data\n",
    "sequence_length = 12  # Number of time steps to look back\n",
    "X_train, y_train = [], []\n",
    "for i in range(len(scaled_train) - sequence_length):\n",
    "    X_train.append(scaled_train[i:i+sequence_length])\n",
    "    y_train.append(scaled_train[i+1:i+sequence_length+1])\n",
    "X_train, y_train = np.array(X_train), np.array(y_train)\n",
    " \n",
    "# Convert data to PyTorch tensors\n",
    "X_train = torch.tensor(X_train, dtype=torch.float32)\n",
    "y_train = torch.tensor(y_train, dtype=torch.float32)\n",
    "X_train.shape,y_train.shape\n",
    "\n",
    "\n",
    "\n"
   ]
  },
  {
   "cell_type": "code",
   "execution_count": 135,
   "metadata": {},
   "outputs": [
    {
     "data": {
      "text/plain": [
       "(torch.Size([46, 12, 1]), torch.Size([46, 12, 1]))"
      ]
     },
     "execution_count": 135,
     "metadata": {},
     "output_type": "execute_result"
    }
   ],
   "source": [
    "# Create sequences and labels for testing data\n",
    "sequence_lenth = 12  # Number of time steps to look back\n",
    "X_test, y_test = [], []\n",
    "for i in range(len(scaled_test) - sequence_length):\n",
    "    X_test.append(scaled_test[i:i+sequence_length])\n",
    "    y_test.append(scaled_test[i+1:i+sequence_length+1])\n",
    "X_test, y_test = np.array(X_test), np.array(y_test)\n",
    " \n",
    "# Convert data to PyTorch tensors\n",
    "X_test = torch.tensor(X_test, dtype=torch.float32)\n",
    "y_test = torch.tensor(y_test, dtype=torch.float32)\n",
    "X_test.shape, y_test.shape"
   ]
  },
  {
   "cell_type": "code",
   "execution_count": 136,
   "metadata": {},
   "outputs": [],
   "source": [
    "# Create Dataloaders\n",
    "\n",
    "batch_size = 1\n",
    "# Create DataLoader for batch training\n",
    "train_dataset = torch.utils.data.TensorDataset(X_train, y_train)\n",
    "train_loader = torch.utils.data.DataLoader(train_dataset, batch_size=batch_size, shuffle=True)\n",
    " \n",
    "# Create DataLoader for batch training\n",
    "test_dataset = torch.utils.data.TensorDataset(X_test, y_test)\n",
    "test_loader = torch.utils.data.DataLoader(test_dataset, batch_size=batch_size, shuffle=False)"
   ]
  },
  {
   "cell_type": "markdown",
   "metadata": {},
   "source": [
    "### 1.2 - Build the RNN model (20 Points) ##\n",
    "\n",
    "\n",
    "Build a RNN model with RNN cell.\n",
    "\n",
    "**Tasks:**\n",
    "1. Build an RNN model with 1 RNN layer and 1 Linear layer, with RNN's hidden size to be 4.  **(10 Points)**\n",
    "2. Initialize model, optimizer and criterion. **(5 Points)**\n",
    "3. Train the model for **1000** epochs with **batch_size = 10** and **print out the average traning loss for every 100 epochs**. **(5 Points)**\n",
    "\n",
    "**Hints:**  \n",
    "1. You can use **nn.RNN** to specify RNN cells.\n",
    "2. Use loss function (criterion) **MSELoss()** and select **Adam** optimizer with **learning_rate=0.005** and other default settings."
   ]
  },
  {
   "cell_type": "code",
   "execution_count": 137,
   "metadata": {},
   "outputs": [],
   "source": [
    "# number of points\n",
    "num_time_steps = 113\n",
    "hidden_size = 4\n",
    "input_size = 1\n",
    "output_size = 1\n",
    "lr = 0.005\n",
    "num_epochs = 1000\n",
    "\n",
    "\n",
    "class Net(nn.Module):\n",
    "    def __init__(self):\n",
    "        super(Net, self).__init__()\n",
    "\n",
    "        self.rnn = nn.RNN(\n",
    "            input_size=input_size,\n",
    "            hidden_size=hidden_size,\n",
    "            num_layers=1,\n",
    "            batch_first=True,\n",
    "            # use batch_first for input with another data shape with b first\n",
    "        )\n",
    "        # compress output to the same dim as y\n",
    "        self.linear = nn.Linear(hidden_size, output_size)\n",
    "\n",
    "    def forward(self, x, hidden_prev):\n",
    "        out, hidden_prev = self.rnn(x, hidden_prev)\n",
    "        # [1, seq, h] => [seq, h]  (batch=1)\n",
    "        out = out.reshape(-1, hidden_size)  # stack batch and seq\n",
    "\n",
    "        # linear layer so that output is not [seq,h] but [seq, 1]\n",
    "        # so it is comparable with y, for loss calculation\n",
    "        out = self.linear(out)  # [seq, h] => [seq, 1]\n",
    "        out = out.unsqueeze(dim=0)  # => [1, seq, 1]\n",
    "        return out, hidden_prev\n",
    "\n",
    "model = Net().to(device)\n",
    "criterion = nn.MSELoss()\n",
    "optimizer = optim.Adam(model.parameters(), lr)\n",
    "\n",
    "hidden_prev = torch.zeros(1, 1, hidden_size).to(device)  # [b, layer, mem_size]\n",
    "\n",
    "\n"
   ]
  },
  {
   "cell_type": "code",
   "execution_count": 139,
   "metadata": {},
   "outputs": [
    {
     "name": "stdout",
     "output_type": "stream",
     "text": [
      "Epoch [10/1000] - Training Loss: 0.0101, Test Loss: 0.0456\n",
      "Epoch [20/1000] - Training Loss: 0.0082, Test Loss: 0.0411\n",
      "Epoch [30/1000] - Training Loss: 0.0069, Test Loss: 0.0440\n",
      "Epoch [40/1000] - Training Loss: 0.0070, Test Loss: 0.0454\n",
      "Epoch [50/1000] - Training Loss: 0.0068, Test Loss: 0.0485\n",
      "Epoch [60/1000] - Training Loss: 0.0066, Test Loss: 0.0518\n",
      "Epoch [70/1000] - Training Loss: 0.0065, Test Loss: 0.0581\n",
      "Epoch [80/1000] - Training Loss: 0.0069, Test Loss: 0.0524\n",
      "Epoch [90/1000] - Training Loss: 0.0064, Test Loss: 0.0549\n",
      "Epoch [100/1000] - Training Loss: 0.0064, Test Loss: 0.0589\n",
      "Epoch [110/1000] - Training Loss: 0.0065, Test Loss: 0.0512\n",
      "Epoch [120/1000] - Training Loss: 0.0067, Test Loss: 0.0610\n",
      "Epoch [130/1000] - Training Loss: 0.0064, Test Loss: 0.0576\n",
      "Epoch [140/1000] - Training Loss: 0.0063, Test Loss: 0.0617\n",
      "Epoch [150/1000] - Training Loss: 0.0056, Test Loss: 0.0639\n",
      "Epoch [160/1000] - Training Loss: 0.0063, Test Loss: 0.0624\n",
      "Epoch [170/1000] - Training Loss: 0.0062, Test Loss: 0.0593\n",
      "Epoch [180/1000] - Training Loss: 0.0062, Test Loss: 0.0621\n",
      "Epoch [190/1000] - Training Loss: 0.0059, Test Loss: 0.0616\n",
      "Epoch [200/1000] - Training Loss: 0.0057, Test Loss: 0.0586\n",
      "Epoch [210/1000] - Training Loss: 0.0057, Test Loss: 0.0572\n",
      "Epoch [220/1000] - Training Loss: 0.0057, Test Loss: 0.0641\n",
      "Epoch [230/1000] - Training Loss: 0.0062, Test Loss: 0.0593\n",
      "Epoch [240/1000] - Training Loss: 0.0062, Test Loss: 0.0622\n",
      "Epoch [250/1000] - Training Loss: 0.0061, Test Loss: 0.0596\n",
      "Epoch [260/1000] - Training Loss: 0.0058, Test Loss: 0.0606\n",
      "Epoch [270/1000] - Training Loss: 0.0062, Test Loss: 0.0687\n",
      "Epoch [280/1000] - Training Loss: 0.0062, Test Loss: 0.0677\n",
      "Epoch [290/1000] - Training Loss: 0.0055, Test Loss: 0.0565\n",
      "Epoch [300/1000] - Training Loss: 0.0066, Test Loss: 0.0610\n",
      "Epoch [310/1000] - Training Loss: 0.0059, Test Loss: 0.0636\n",
      "Epoch [320/1000] - Training Loss: 0.0062, Test Loss: 0.0674\n",
      "Epoch [330/1000] - Training Loss: 0.0060, Test Loss: 0.0638\n",
      "Epoch [340/1000] - Training Loss: 0.0061, Test Loss: 0.0615\n",
      "Epoch [350/1000] - Training Loss: 0.0060, Test Loss: 0.0544\n",
      "Epoch [360/1000] - Training Loss: 0.0060, Test Loss: 0.0589\n",
      "Epoch [370/1000] - Training Loss: 0.0063, Test Loss: 0.0644\n",
      "Epoch [380/1000] - Training Loss: 0.0058, Test Loss: 0.0650\n",
      "Epoch [390/1000] - Training Loss: 0.0066, Test Loss: 0.0588\n",
      "Epoch [400/1000] - Training Loss: 0.0058, Test Loss: 0.0631\n",
      "Epoch [410/1000] - Training Loss: 0.0058, Test Loss: 0.0567\n",
      "Epoch [420/1000] - Training Loss: 0.0059, Test Loss: 0.0581\n",
      "Epoch [430/1000] - Training Loss: 0.0057, Test Loss: 0.0608\n",
      "Epoch [440/1000] - Training Loss: 0.0056, Test Loss: 0.0636\n",
      "Epoch [450/1000] - Training Loss: 0.0058, Test Loss: 0.0611\n",
      "Epoch [460/1000] - Training Loss: 0.0056, Test Loss: 0.0618\n",
      "Epoch [470/1000] - Training Loss: 0.0060, Test Loss: 0.0648\n",
      "Epoch [480/1000] - Training Loss: 0.0063, Test Loss: 0.0619\n",
      "Epoch [490/1000] - Training Loss: 0.0060, Test Loss: 0.0607\n",
      "Epoch [500/1000] - Training Loss: 0.0061, Test Loss: 0.0654\n",
      "Epoch [510/1000] - Training Loss: 0.0057, Test Loss: 0.0674\n",
      "Epoch [520/1000] - Training Loss: 0.0054, Test Loss: 0.0621\n",
      "Epoch [530/1000] - Training Loss: 0.0059, Test Loss: 0.0622\n",
      "Epoch [540/1000] - Training Loss: 0.0059, Test Loss: 0.0613\n",
      "Epoch [550/1000] - Training Loss: 0.0058, Test Loss: 0.0658\n",
      "Epoch [560/1000] - Training Loss: 0.0055, Test Loss: 0.0652\n",
      "Epoch [570/1000] - Training Loss: 0.0060, Test Loss: 0.0671\n",
      "Epoch [580/1000] - Training Loss: 0.0054, Test Loss: 0.0648\n",
      "Epoch [590/1000] - Training Loss: 0.0054, Test Loss: 0.0594\n",
      "Epoch [600/1000] - Training Loss: 0.0057, Test Loss: 0.0634\n",
      "Epoch [610/1000] - Training Loss: 0.0061, Test Loss: 0.0689\n",
      "Epoch [620/1000] - Training Loss: 0.0058, Test Loss: 0.0560\n",
      "Epoch [630/1000] - Training Loss: 0.0062, Test Loss: 0.0645\n",
      "Epoch [640/1000] - Training Loss: 0.0056, Test Loss: 0.0625\n",
      "Epoch [650/1000] - Training Loss: 0.0057, Test Loss: 0.0596\n",
      "Epoch [660/1000] - Training Loss: 0.0057, Test Loss: 0.0641\n",
      "Epoch [670/1000] - Training Loss: 0.0057, Test Loss: 0.0654\n",
      "Epoch [680/1000] - Training Loss: 0.0062, Test Loss: 0.0627\n",
      "Epoch [690/1000] - Training Loss: 0.0059, Test Loss: 0.0654\n",
      "Epoch [700/1000] - Training Loss: 0.0063, Test Loss: 0.0718\n",
      "Epoch [710/1000] - Training Loss: 0.0055, Test Loss: 0.0658\n",
      "Epoch [720/1000] - Training Loss: 0.0054, Test Loss: 0.0626\n",
      "Epoch [730/1000] - Training Loss: 0.0060, Test Loss: 0.0605\n",
      "Epoch [740/1000] - Training Loss: 0.0057, Test Loss: 0.0650\n",
      "Epoch [750/1000] - Training Loss: 0.0060, Test Loss: 0.0626\n",
      "Epoch [760/1000] - Training Loss: 0.0056, Test Loss: 0.0556\n",
      "Epoch [770/1000] - Training Loss: 0.0055, Test Loss: 0.0569\n",
      "Epoch [780/1000] - Training Loss: 0.0060, Test Loss: 0.0596\n",
      "Epoch [790/1000] - Training Loss: 0.0065, Test Loss: 0.0667\n",
      "Epoch [800/1000] - Training Loss: 0.0061, Test Loss: 0.0592\n",
      "Epoch [810/1000] - Training Loss: 0.0059, Test Loss: 0.0573\n",
      "Epoch [820/1000] - Training Loss: 0.0060, Test Loss: 0.0608\n",
      "Epoch [830/1000] - Training Loss: 0.0060, Test Loss: 0.0616\n",
      "Epoch [840/1000] - Training Loss: 0.0054, Test Loss: 0.0574\n",
      "Epoch [850/1000] - Training Loss: 0.0063, Test Loss: 0.0595\n",
      "Epoch [860/1000] - Training Loss: 0.0061, Test Loss: 0.0594\n",
      "Epoch [870/1000] - Training Loss: 0.0058, Test Loss: 0.0672\n",
      "Epoch [880/1000] - Training Loss: 0.0055, Test Loss: 0.0664\n",
      "Epoch [890/1000] - Training Loss: 0.0058, Test Loss: 0.0596\n",
      "Epoch [900/1000] - Training Loss: 0.0056, Test Loss: 0.0617\n",
      "Epoch [910/1000] - Training Loss: 0.0058, Test Loss: 0.0573\n",
      "Epoch [920/1000] - Training Loss: 0.0056, Test Loss: 0.0646\n",
      "Epoch [930/1000] - Training Loss: 0.0052, Test Loss: 0.0606\n",
      "Epoch [940/1000] - Training Loss: 0.0062, Test Loss: 0.0573\n",
      "Epoch [950/1000] - Training Loss: 0.0061, Test Loss: 0.0569\n",
      "Epoch [960/1000] - Training Loss: 0.0059, Test Loss: 0.0678\n",
      "Epoch [970/1000] - Training Loss: 0.0057, Test Loss: 0.0608\n",
      "Epoch [980/1000] - Training Loss: 0.0060, Test Loss: 0.0552\n",
      "Epoch [990/1000] - Training Loss: 0.0059, Test Loss: 0.0674\n",
      "Epoch [1000/1000] - Training Loss: 0.0060, Test Loss: 0.0599\n"
     ]
    }
   ],
   "source": [
    "train_hist =[]\n",
    "test_hist =[]\n",
    "# Training loop\n",
    "for epoch in range(num_epochs):\n",
    "    total_loss = 0.0\n",
    " \n",
    "    # Training\n",
    "    model.train()\n",
    "    for batch_X, batch_y in train_loader:\n",
    "        batch_X, batch_y = batch_X.to(device), batch_y.to(device)\n",
    "\n",
    "\n",
    "        predictions,hidden_prev = model(batch_X,hidden_prev)\n",
    "        hidden_prev = hidden_prev.detach()\n",
    "        \n",
    "        loss = criterion(predictions, batch_y)\n",
    " \n",
    "        optimizer.zero_grad()\n",
    "        loss.backward()\n",
    "        optimizer.step()\n",
    " \n",
    "        total_loss += loss.item()\n",
    " \n",
    "    # Calculate average training loss and accuracy\n",
    "    average_loss = total_loss / len(train_loader)\n",
    "    train_hist.append(average_loss)\n",
    " \n",
    "    # Validation on test data\n",
    "    model.eval()\n",
    "    with torch.no_grad():\n",
    "        total_test_loss = 0.0\n",
    " \n",
    "        for batch_X_test, batch_y_test in test_loader:\n",
    "            batch_X_test, batch_y_test = batch_X_test.to(device), batch_y_test.to(device)\n",
    "            predictions_test,hidden_prev = model(batch_X_test,hidden_prev)\n",
    "            test_loss = criterion(predictions_test, batch_y_test)\n",
    " \n",
    "            total_test_loss += test_loss.item()\n",
    " \n",
    "        # Calculate average test loss and accuracy\n",
    "        average_test_loss = total_test_loss / len(test_loader)\n",
    "        test_hist.append(average_test_loss)\n",
    "    if (epoch+1)%10==0:\n",
    "        print(f'Epoch [{epoch+1}/{num_epochs}] - Training Loss: {average_loss:.4f}, Test Loss: {average_test_loss:.4f}')"
   ]
  },
  {
   "cell_type": "code",
   "execution_count": 140,
   "metadata": {},
   "outputs": [
    {
     "data": {
      "image/png": "[encoded data removed]",
      "text/plain": [
       "<Figure size 640x480 with 1 Axes>"
      ]
     },
     "metadata": {},
     "output_type": "display_data"
    }
   ],
   "source": [
    "# Plot the learning curve\n",
    "\n",
    "x = np.linspace(1,num_epochs,num_epochs)\n",
    "plt.plot(x,train_hist,scalex=True, label=\"Training loss\")\n",
    "plt.plot(x, test_hist, label=\"Test loss\")\n",
    "plt.legend()\n",
    "plt.show()"
   ]
  }
 ],
 "metadata": {
  "kernelspec": {
   "display_name": "deeplearning",
   "language": "python",
   "name": "python3"
  },
  "language_info": {
   "codemirror_mode": {
    "name": "ipython",
    "version": 3
   },
   "file_extension": ".py",
   "mimetype": "text/x-python",
   "name": "python",
   "nbconvert_exporter": "python",
   "pygments_lexer": "ipython3",
   "version": "3.10.14"
  }
 },
 "nbformat": 4,
 "nbformat_minor": 2
}
