{
 "cells": [
  {
   "cell_type": "markdown",
   "metadata": {},
   "source": [
    "# Reinforcement Learning\n",
    "\n",
    "This is the 5th assignment for CAP 4630 and we will train an AI-based explorer to play a game by reinforcement learing. As domestrated below, in this game, the treasure (denoted by T) is on the right-most and the explorer (denoted by o) will learn to get the treasure by moving left and right. The explorer will be rewarded when it gets the treasure.  After serveral epoches, the explorer will learn how to get the treasure faster and finally it will go to the treasure by moving to right directly. \\\n",
    "\n",
    "You will use **\"Tasks\"** and **\"Hints\"** to finish the work. **(Total 60 points, with extra 10 bonus points)** \\\n",
    "\n",
    "Episode 1, Step1: o----T   \\\n",
    "... \\\n",
    "Episode 1, Step6: ---o-T   \\\n",
    "... \\\n",
    "Episode 1, Step10: -o---T \\\n",
    "... \\\n",
    "Episode 1, Step15: ----oT (finished) \\\n",
    "\n",
    "You will use **\"Tasks\"** and **\"Hints\"** to finish the work. **(Total 100 Points)**. Additionally, you have the opportunity to earn **(extra bonus 10 points)** for extra challenges. \\\n",
    "\n",
    "**Task Overview:**\n",
    "- Train the explorer getting the treasure quickly through Q-learning method"
   ]
  },
  {
   "cell_type": "markdown",
   "metadata": {},
   "source": [
    "Approach: \n",
    "\n",
    "1.  Initialize Q table with random values\n",
    "2. While playing the game execute the following loop\n",
    "3.  Generate random number between 0 and 1 – if number is larger than the threshold e select random action, otherwise select action with the highest possible reward based on state and Q-table\n",
    "4.  Take action from step 2.a\n",
    "5.  Observe reward r after taking action\n",
    "6. Update Q table based on the reward r using the formula   "
   ]
  },
  {
   "cell_type": "markdown",
   "metadata": {},
   "source": [
    "# Create Q-Learning Algorithm"
   ]
  },
  {
   "cell_type": "code",
   "execution_count": null,
   "metadata": {},
   "outputs": [],
   "source": [
    "# Import Packages\n",
    "\n",
    "import os\n",
    "import sys\n",
    "import random\n",
    "import time"
   ]
  },
  {
   "cell_type": "code",
   "execution_count": null,
   "metadata": {},
   "outputs": [],
   "source": [
    "class QLearningModel:\n",
    "    def __init__(self,learning_rate,discount,epsilon,refresh_time):\n",
    "        self.x = 0\n",
    "        self.actions = ['left', 'right'] #Actions\n",
    "        self.first_run = True\n",
    "\n",
    "        self.learning_rate = learning_rate\n",
    "        self.discount = discount\n",
    "        self.epsilon = epsilon\n",
    "        self.refresh_time=refresh_time\n",
    "\n",
    "        self.r = random.Random()\n",
    "\n",
    "    def initialize_q_table(self):\n",
    "        self.q_table = [[self.r.random() for _ in self.actions] for _ in range(self.game.map_size)]\n",
    "\n",
    "    # Define Action Function\n",
    "    def get_input(self):\n",
    "        time.sleep(self.refresh_time)\n",
    "\n",
    "        if self.first_run:\n",
    "            self.initialize_q_table()\n",
    "            self.first_run = False\n",
    "        else:\n",
    "            r = 0\n",
    "            if self.old_score < self.game.score:\n",
    "                r = 1\n",
    "            elif self.old_score > self.game.score:\n",
    "                r = -1\n",
    "\n",
    "            outcome_state = self.x\n",
    "            self.q_table[self.old_state][self.action_taken_index] += self.learning_rate * (r + self.discount * max(self.q_table[outcome_state]) - self.q_table[self.old_state][self.action_taken_index])\n",
    "\n",
    "        self.old_score = self.game.score\n",
    "        self.old_state = self.x\n",
    "\n",
    "        \n",
    "        if self.r.random() > self.epsilon:\n",
    "            self.action_taken_index = self.r.randint(0, len(self.actions) - 1)\n",
    "        else:\n",
    "            s = self.x\n",
    "            self.action_taken_index = max((value, idx) for idx, value in enumerate(self.q_table[s]))[1]\n",
    "\n",
    "        return self.actions[self.action_taken_index]\n",
    "\n",
    "    def print_table(self):\n",
    "        for row in self.q_table:\n",
    "            print(row)"
   ]
  },
  {
   "cell_type": "markdown",
   "metadata": {},
   "source": [
    "# Set up the Game: Interact with the Environment"
   ]
  },
  {
   "cell_type": "code",
   "execution_count": null,
   "metadata": {},
   "outputs": [],
   "source": [
    "# Create the Game Setup: Interact with the Environment\n",
    "\n",
    "class GameSetup:\n",
    "    def __init__(self, map_size, player):\n",
    "        self.run_count = 0\n",
    "        self.map_size = map_size\n",
    "        self.start_position = 3\n",
    "        self.player = player\n",
    "        self.reset()\n",
    "\n",
    "        # Clear the console\n",
    "        os.system('cls' if os.name == 'nt' else 'clear')\n",
    "\n",
    "    def reset(self):\n",
    "        self.player.x = self.start_position\n",
    "        self.treasure_x = self.map_size-1\n",
    "        self.pit_x = 0\n",
    "        self.score = 0\n",
    "        self.run_count += 1\n",
    "        self.moves = 0\n",
    "\n",
    "    def run(self):\n",
    "        while self.score < 5 and self.score > -5:\n",
    "            self.draw()\n",
    "            self.gameloop()\n",
    "            self.moves += 1\n",
    "\n",
    "        # Draw one last time to update the\n",
    "        self.draw()\n",
    "\n",
    "        if self.score >= 5:\n",
    "            print(f\"  You win in {self.moves} moves!\")\n",
    "        else:\n",
    "            print(\"  Game over\")\n",
    "\n",
    "    def gameloop(self):\n",
    "        move = self.player.get_input()\n",
    "        if move == 'left':\n",
    "            self.player.x = self.player.x - 1 if self.player.x > 0 else self.map_size - 1\n",
    "        elif move == 'right':\n",
    "            self.player.x = self.player.x + 1 if self.player.x < self.map_size - 1 else 0\n",
    "\n",
    "        if self.player.x == self.treasure_x:\n",
    "            self.score += 1\n",
    "            self.player.x = self.start_position\n",
    "\n",
    "        if self.player.x == self.pit_x:\n",
    "            self.score -= 1\n",
    "            self.player.x = self.start_position\n",
    "\n",
    "    def draw(self):\n",
    "        map_line = ['o' if i == self.player.x else 'T' if i == self.treasure_x else 'P' if i == self.pit_x else '-' for i in range(self.map_size)]\n",
    "        map_line = f\"\\r{''.join(map_line)} | Score {self.score} | Run {self.run_count}\"\n",
    "        sys.stdout.write(map_line)\n",
    "        sys.stdout.flush()\n",
    "\n"
   ]
  },
  {
   "cell_type": "markdown",
   "metadata": {},
   "source": [
    "# Play the Game"
   ]
  },
  {
   "cell_type": "code",
   "execution_count": null,
   "metadata": {},
   "outputs": [],
   "source": [
    "# Initialize Game with Reinforcement Learning\n",
    "learning_rate = 0.2\n",
    "map_size = 20\n",
    "discount = 0.9\n",
    "epsilon = 0.9\n",
    "refresh_time = 0.05\n",
    "num_epochs = 30\n",
    "\n",
    "player = QLearningModel(learning_rate,discount,epsilon,refresh_time)\n",
    "gameinstance = GameSetup(map_size,p)\n",
    "player.game = gameinstance\n",
    "\n",
    "for _ in range(num_epochs):\n",
    "    gameinstance.run()\n",
    "    gameinstance.reset()"
   ]
  },
  {
   "cell_type": "code",
   "execution_count": null,
   "metadata": {},
   "outputs": [],
   "source": [
    "# Print Q-Table\n",
    "print(\"Q-TABLE: \")\n",
    "player.print_table()\n",
    "print(\"\")"
   ]
  }
 ],
 "metadata": {
  "kernelspec": {
   "display_name": "deeplearning",
   "language": "python",
   "name": "python3"
  },
  "language_info": {
   "codemirror_mode": {
    "name": "ipython",
    "version": 3
   },
   "file_extension": ".py",
   "mimetype": "text/x-python",
   "name": "python",
   "nbconvert_exporter": "python",
   "pygments_lexer": "ipython3",
   "version": "3.10.14"
  }
 },
 "nbformat": 4,
 "nbformat_minor": 2
}
